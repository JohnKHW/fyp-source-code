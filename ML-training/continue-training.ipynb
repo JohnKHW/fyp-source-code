{
 "cells": [
  {
   "cell_type": "code",
   "execution_count": 1,
   "metadata": {},
   "outputs": [
    {
     "name": "stdout",
     "output_type": "stream",
     "text": [
      "Collecting opencv-pythonNote: you may need to restart the kernel to use updated packages.\n",
      "\n",
      "  Using cached opencv_python-4.7.0.68-cp37-abi3-win_amd64.whl (38.2 MB)\n",
      "Requirement already satisfied: keras in c:\\users\\wongk\\miniconda3\\envs\\fyp-env\\lib\\site-packages (2.10.0)\n",
      "Collecting keras\n",
      "  Using cached keras-2.11.0-py2.py3-none-any.whl (1.7 MB)\n",
      "Collecting matplotlib\n",
      "  Downloading matplotlib-3.6.3-cp310-cp310-win_amd64.whl (7.2 MB)\n",
      "     ---------------------------------------- 7.2/7.2 MB 18.5 MB/s eta 0:00:00\n",
      "Requirement already satisfied: numpy in c:\\users\\wongk\\appdata\\roaming\\python\\python310\\site-packages (1.22.3)\n",
      "Collecting numpy\n",
      "  Downloading numpy-1.24.1-cp310-cp310-win_amd64.whl (14.8 MB)\n",
      "     --------------------------------------- 14.8/14.8 MB 17.7 MB/s eta 0:00:00\n",
      "Collecting scipy\n",
      "  Downloading scipy-1.10.0-cp310-cp310-win_amd64.whl (42.5 MB)\n",
      "     --------------------------------------- 42.5/42.5 MB 16.0 MB/s eta 0:00:00\n",
      "Collecting pillow>=6.2.0\n",
      "  Downloading Pillow-9.4.0-cp310-cp310-win_amd64.whl (2.5 MB)\n",
      "     ---------------------------------------- 2.5/2.5 MB 15.7 MB/s eta 0:00:00\n",
      "Collecting kiwisolver>=1.0.1\n",
      "  Downloading kiwisolver-1.4.4-cp310-cp310-win_amd64.whl (55 kB)\n",
      "     ---------------------------------------- 55.3/55.3 kB ? eta 0:00:00\n",
      "Collecting cycler>=0.10\n",
      "  Using cached cycler-0.11.0-py3-none-any.whl (6.4 kB)\n",
      "Requirement already satisfied: packaging>=20.0 in c:\\users\\wongk\\miniconda3\\envs\\fyp-env\\lib\\site-packages (from matplotlib) (23.0)\n",
      "Collecting pyparsing>=2.2.1\n",
      "  Using cached pyparsing-3.0.9-py3-none-any.whl (98 kB)\n",
      "Collecting contourpy>=1.0.1\n",
      "  Downloading contourpy-1.0.7-cp310-cp310-win_amd64.whl (162 kB)\n",
      "     ------------------------------------- 163.0/163.0 kB 10.2 MB/s eta 0:00:00\n",
      "Requirement already satisfied: python-dateutil>=2.7 in c:\\users\\wongk\\miniconda3\\envs\\fyp-env\\lib\\site-packages (from matplotlib) (2.8.2)\n",
      "Collecting fonttools>=4.22.0\n",
      "  Using cached fonttools-4.38.0-py3-none-any.whl (965 kB)\n",
      "Requirement already satisfied: six>=1.5 in c:\\users\\wongk\\miniconda3\\envs\\fyp-env\\lib\\site-packages (from python-dateutil>=2.7->matplotlib) (1.16.0)\n",
      "Installing collected packages: pyparsing, pillow, numpy, kiwisolver, keras, fonttools, cycler, scipy, opencv-python, contourpy, matplotlib\n",
      "  Attempting uninstall: numpy\n",
      "    Found existing installation: numpy 1.22.3\n",
      "    Uninstalling numpy-1.22.3:\n",
      "      Successfully uninstalled numpy-1.22.3\n",
      "  Attempting uninstall: keras\n",
      "    Found existing installation: keras 2.10.0\n",
      "    Uninstalling keras-2.10.0:\n",
      "      Successfully uninstalled keras-2.10.0\n",
      "Successfully installed contourpy-1.0.7 cycler-0.11.0 fonttools-4.38.0 keras-2.11.0 kiwisolver-1.4.4 matplotlib-3.6.3 numpy-1.24.1 opencv-python-4.7.0.68 pillow-9.4.0 pyparsing-3.0.9 scipy-1.10.0\n"
     ]
    },
    {
     "name": "stderr",
     "output_type": "stream",
     "text": [
      "WARNING: Ignoring invalid distribution -ensorflow-intel (c:\\users\\wongk\\appdata\\roaming\\python\\python310\\site-packages)\n",
      "WARNING: Ignoring invalid distribution -ensorflow-intel (c:\\users\\wongk\\appdata\\roaming\\python\\python310\\site-packages)\n",
      "WARNING: Ignoring invalid distribution -ensorflow-intel (c:\\users\\wongk\\appdata\\roaming\\python\\python310\\site-packages)\n",
      "    WARNING: Ignoring invalid distribution -ensorflow-intel (c:\\users\\wongk\\appdata\\roaming\\python\\python310\\site-packages)\n",
      "    WARNING: Ignoring invalid distribution -ensorflow-intel (c:\\users\\wongk\\appdata\\roaming\\python\\python310\\site-packages)\n",
      "ERROR: pip's dependency resolver does not currently take into account all the packages that are installed. This behaviour is the source of the following dependency conflicts.\n",
      "tensorflow 2.10.0 requires keras<2.11,>=2.10.0, but you have keras 2.11.0 which is incompatible.\n",
      "WARNING: Ignoring invalid distribution -ensorflow-intel (c:\\users\\wongk\\appdata\\roaming\\python\\python310\\site-packages)\n",
      "WARNING: Ignoring invalid distribution -ensorflow-intel (c:\\users\\wongk\\appdata\\roaming\\python\\python310\\site-packages)\n",
      "WARNING: Ignoring invalid distribution -ensorflow-intel (c:\\users\\wongk\\appdata\\roaming\\python\\python310\\site-packages)\n"
     ]
    }
   ],
   "source": [
    "# This project is aim to develop a model to do facial expression recognition\n",
    "\n",
    "# Install the following packages\n",
    "%pip install opencv-python keras matplotlib numpy scipy scikit-image --upgrade"
   ]
  },
  {
   "cell_type": "code",
   "execution_count": 4,
   "metadata": {},
   "outputs": [
    {
     "name": "stdout",
     "output_type": "stream",
     "text": [
      "Note: you may need to restart the kernel to use updated packages.\n"
     ]
    },
    {
     "name": "stderr",
     "output_type": "stream",
     "text": [
      "WARNING: Ignoring invalid distribution -ensorflow-intel (c:\\users\\wongk\\appdata\\roaming\\python\\python310\\site-packages)\n",
      "WARNING: Ignoring invalid distribution -ensorflow-intel (c:\\users\\wongk\\appdata\\roaming\\python\\python310\\site-packages)\n",
      "WARNING: Ignoring invalid distribution -ensorflow-intel (c:\\users\\wongk\\appdata\\roaming\\python\\python310\\site-packages)\n",
      "WARNING: Ignoring invalid distribution -ensorflow-intel (c:\\users\\wongk\\appdata\\roaming\\python\\python310\\site-packages)\n",
      "WARNING: Ignoring invalid distribution -ensorflow-intel (c:\\users\\wongk\\appdata\\roaming\\python\\python310\\site-packages)\n",
      "WARNING: Ignoring invalid distribution -ensorflow-intel (c:\\users\\wongk\\appdata\\roaming\\python\\python310\\site-packages)\n"
     ]
    }
   ],
   "source": [
    "%pip install wandb -qU"
   ]
  },
  {
   "cell_type": "code",
   "execution_count": 16,
   "metadata": {},
   "outputs": [],
   "source": [
    "# Building model\n",
    "\n",
    "from tensorflow import keras\n",
    "from keras.models import Sequential\n",
    "from keras.layers import Dense, Conv2D, Flatten, MaxPooling2D, Dropout, Activation, BatchNormalization\n",
    "import tensorflow as tf\n",
    "\n",
    "\n",
    "# Build the model\n",
    "def build_model(self):\n",
    "    gpus = tf.config.list_physical_devices('GPU')\n",
    "    # loading model from the saved model\n",
    "    if gpus:\n",
    "        try:\n",
    "            tf.config.experimental.set_virtual_device_configuration(\n",
    "                gpus[0],\n",
    "                [tf.config.experimental.VirtualDeviceConfiguration(memory_limit=1024)])\n",
    "        except RuntimeError as e:\n",
    "            print(e)\n",
    "\n",
    "    self.model = keras.models.load_model(self.root_path+'/model_v1.h5')\n",
    "    self.model.summary()\n",
    "    # with tf.device(\"/gpu:0\"):\n",
    "    #     self.model = Sequential()\n",
    "    #     self.model.add(Conv2D(64, (5,5), activation='relu', input_shape=(48, 48, 1)))\n",
    "    #     self.model.add(MaxPooling2D((2, 2)))\n",
    "    #     self.model.add(Conv2D(32, (5,5), activation='relu'))\n",
    "    #     self.model.add(MaxPooling2D((2, 2)))\n",
    "    #     self.model.add(Dropout(0.1))\n",
    "    #     self.model.add(Flatten())\n",
    "    #     self.model.add(Dense(128, activation='relu'))\n",
    "    #     self.model.add(Dense(7, activation='softmax'))\n"
   ]
  },
  {
   "cell_type": "code",
   "execution_count": 7,
   "metadata": {},
   "outputs": [],
   "source": [
    "# Train the model\n",
    "\n",
    "from keras.optimizers import SGD, Adam\n",
    "from keras.preprocessing.image import ImageDataGenerator\n",
    "from keras.callbacks import EarlyStopping, ModelCheckpoint\n",
    "import matplotlib.pyplot as plt\n",
    "from tqdm import tqdm\n",
    "\n",
    "def train_model(self, extra_callbacks=[]):\n",
    "\n",
    "    root_path = self.root_path\n",
    "    learning_rate = self.learning_rate\n",
    "    batch_size= self.batch_size\n",
    "    epochs = self.epochs\n",
    "    img_size = self.img_size\n",
    "    postfix = self.postfix\n",
    "\n",
    "    sgd = SGD(lr=learning_rate, decay=1e-6, momentum=0.9, nesterov=True)\n",
    "    adam = Adam(learning_rate)\n",
    "    self.model.compile(\n",
    "        loss=\"categorical_crossentropy\", optimizer=adam, metrics=[\"accuracy\"]\n",
    "    )\n",
    "\n",
    "    train_datagen = ImageDataGenerator(\n",
    "        rescale=1.0 / 255, shear_range=0.2, zoom_range=0.2, horizontal_flip=True\n",
    "    )\n",
    "\n",
    "    val_datagen = ImageDataGenerator(rescale=1.0 / 255)\n",
    "    eval_datagen = ImageDataGenerator(rescale=1.0 / 255)\n",
    "    train_generator = train_datagen.flow_from_directory(\n",
    "        root_path + \"/train\"+postfix,\n",
    "        target_size=(img_size, img_size),\n",
    "        color_mode=\"grayscale\",\n",
    "        batch_size=batch_size,\n",
    "        class_mode=\"categorical\"\n",
    "    )\n",
    "\n",
    "    val_generator = val_datagen.flow_from_directory(\n",
    "        root_path + \"/val\"+postfix,\n",
    "        target_size=(img_size, img_size),\n",
    "        color_mode=\"grayscale\",\n",
    "        batch_size=batch_size,\n",
    "        class_mode=\"categorical\"\n",
    "    )\n",
    "\n",
    "    # eval_generator = eval_datagen.flow_from_directory(\n",
    "    #     root_path + \"/test\"+postfix,\n",
    "    #     target_size=(img_size, img_size),\n",
    "    #     color_mode=\"grayscale\",\n",
    "    #     batch_size=batch_size,\n",
    "    #     class_mode=\"categorical\"\n",
    "    # )\n",
    "\n",
    "    print(val_generator.class_indices)\n",
    "\n",
    "    es_cb = EarlyStopping(monitor='val_accuracy',\n",
    "        min_delta=0.00005,\n",
    "        patience=11,\n",
    "        verbose=1,\n",
    "        restore_best_weights=True,\n",
    "    )\n",
    "    cp_cb = ModelCheckpoint(\n",
    "        filepath='model.h5',\n",
    "        save_best_only=True,\n",
    "    )\n",
    "\n",
    "    history_fit = self.model.fit(\n",
    "        train_generator,\n",
    "        steps_per_epoch=800/(batch_size/32), #28709\n",
    "        epochs=epochs,\n",
    "        # validation_steps=2000,\n",
    "        validation_data=val_generator,\n",
    "        callbacks=[es_cb] + extra_callbacks,\n",
    "    )\n",
    "\n",
    "    # history_predict = tqdm(self.model.evaluate(eval_generator, steps=2000))\n",
    "\n",
    "    #draw the graph\n",
    "    plot_history(history_fit)\n",
    "\n",
    "def plot_history(history):\n",
    "    plt.plot(history.history['accuracy'], label='train_accuracy')\n",
    "    plt.plot(history.history['val_accuracy'], label='val_accuracy')\n",
    "    plt.legend()\n",
    "    plt.title('Accuracy Plot')\n",
    "    plt.xlabel('Epoch')\n",
    "    plt.ylabel('Accuracy')\n",
    "    plt.show()\n",
    "\n",
    "    plt.plot(history.history['loss'], label='train_loss')\n",
    "    plt.plot(history.history['val_loss'], label='val_loss')\n",
    "    plt.legend()\n",
    "    plt.title('Loss Plot')\n",
    "    plt.xlabel('Epoch')\n",
    "    plt.ylabel('Loss')\n",
    "    plt.show()\n"
   ]
  },
  {
   "cell_type": "code",
   "execution_count": 20,
   "metadata": {},
   "outputs": [],
   "source": [
    "# Save the model\n",
    "\n",
    "def save_model(self, version):\n",
    "    root_path = self.root_path\n",
    "    root_path = root_path + self.path\n",
    "    model_json = self.model.to_json()\n",
    "    with open(root_path+f\"/model.json{version}\", \"w\") as json_file:\n",
    "        json_file.write(model_json)\n",
    "    self.model.save_weights(root_path+f\"/model_weight{version}.h5\")\n",
    "    self.model.save(root_path+f\"/model{version}.h5\")"
   ]
  },
  {
   "cell_type": "code",
   "execution_count": 4,
   "metadata": {},
   "outputs": [
    {
     "name": "stdout",
     "output_type": "stream",
     "text": [
      "[PhysicalDevice(name='/physical_device:GPU:0', device_type='GPU')]\n"
     ]
    }
   ],
   "source": [
    "import tensorflow as tf;  \n",
    "gpus = tf.config.list_physical_devices('GPU')\n",
    "print(gpus)\n",
    "if gpus: \n",
    "    tf.config.set_logical_device_configuration(\n",
    "        gpus[0],\n",
    "        [tf.config.LogicalDeviceConfiguration(memory_limit=5292)]\n",
    "    )"
   ]
  },
  {
   "cell_type": "code",
   "execution_count": 5,
   "metadata": {},
   "outputs": [
    {
     "name": "stderr",
     "output_type": "stream",
     "text": [
      "Failed to detect the name of this notebook, you can set it manually with the WANDB_NOTEBOOK_NAME environment variable to enable code saving.\n",
      "\u001b[34m\u001b[1mwandb\u001b[0m: Currently logged in as: \u001b[33mjohnkhw\u001b[0m. Use \u001b[1m`wandb login --relogin`\u001b[0m to force relogin\n"
     ]
    },
    {
     "data": {
      "text/plain": [
       "True"
      ]
     },
     "execution_count": 5,
     "metadata": {},
     "output_type": "execute_result"
    }
   ],
   "source": [
    "import wandb\n",
    "wandb.login()\n"
   ]
  },
  {
   "cell_type": "code",
   "execution_count": 22,
   "metadata": {},
   "outputs": [
    {
     "data": {
      "text/html": [
       "Finishing last run (ID:lbn343hu) before initializing another..."
      ],
      "text/plain": [
       "<IPython.core.display.HTML object>"
      ]
     },
     "metadata": {},
     "output_type": "display_data"
    },
    {
     "data": {
      "text/html": [
       "Waiting for W&B process to finish... <strong style=\"color:green\">(success).</strong>"
      ],
      "text/plain": [
       "<IPython.core.display.HTML object>"
      ]
     },
     "metadata": {},
     "output_type": "display_data"
    },
    {
     "data": {
      "text/html": [
       " View run <strong style=\"color:#cdcd00\">vivid-shadow-20</strong> at: <a href=\"https://wandb.ai/johnkhw/fyp-fer-fine-tune/runs/lbn343hu\" target=\"_blank\">https://wandb.ai/johnkhw/fyp-fer-fine-tune/runs/lbn343hu</a><br/>Synced 6 W&B file(s), 1 media file(s), 0 artifact file(s) and 0 other file(s)"
      ],
      "text/plain": [
       "<IPython.core.display.HTML object>"
      ]
     },
     "metadata": {},
     "output_type": "display_data"
    },
    {
     "data": {
      "text/html": [
       "Find logs at: <code>.\\wandb\\run-20230326_144559-lbn343hu\\logs</code>"
      ],
      "text/plain": [
       "<IPython.core.display.HTML object>"
      ]
     },
     "metadata": {},
     "output_type": "display_data"
    },
    {
     "data": {
      "text/html": [
       "Successfully finished last run (ID:lbn343hu). Initializing new run:<br/>"
      ],
      "text/plain": [
       "<IPython.core.display.HTML object>"
      ]
     },
     "metadata": {},
     "output_type": "display_data"
    },
    {
     "data": {
      "text/html": [
       "wandb version 0.14.0 is available!  To upgrade, please run:\n",
       " $ pip install wandb --upgrade"
      ],
      "text/plain": [
       "<IPython.core.display.HTML object>"
      ]
     },
     "metadata": {},
     "output_type": "display_data"
    },
    {
     "data": {
      "text/html": [
       "Tracking run with wandb version 0.13.9"
      ],
      "text/plain": [
       "<IPython.core.display.HTML object>"
      ]
     },
     "metadata": {},
     "output_type": "display_data"
    },
    {
     "data": {
      "text/html": [
       "Run data is saved locally in <code>c:\\AI\\Facial-Expression-Reconition\\wandb\\run-20230326_144621-4sxclj4k</code>"
      ],
      "text/plain": [
       "<IPython.core.display.HTML object>"
      ]
     },
     "metadata": {},
     "output_type": "display_data"
    },
    {
     "data": {
      "text/html": [
       "Syncing run <strong><a href=\"https://wandb.ai/johnkhw/fyp-fer-fine-tune/runs/4sxclj4k\" target=\"_blank\">treasured-disco-21</a></strong> to <a href=\"https://wandb.ai/johnkhw/fyp-fer-fine-tune\" target=\"_blank\">Weights & Biases</a> (<a href=\"https://wandb.me/run\" target=\"_blank\">docs</a>)<br/>"
      ],
      "text/plain": [
       "<IPython.core.display.HTML object>"
      ]
     },
     "metadata": {},
     "output_type": "display_data"
    },
    {
     "data": {
      "text/html": [
       " View project at <a href=\"https://wandb.ai/johnkhw/fyp-fer-fine-tune\" target=\"_blank\">https://wandb.ai/johnkhw/fyp-fer-fine-tune</a>"
      ],
      "text/plain": [
       "<IPython.core.display.HTML object>"
      ]
     },
     "metadata": {},
     "output_type": "display_data"
    },
    {
     "data": {
      "text/html": [
       " View run at <a href=\"https://wandb.ai/johnkhw/fyp-fer-fine-tune/runs/4sxclj4k\" target=\"_blank\">https://wandb.ai/johnkhw/fyp-fer-fine-tune/runs/4sxclj4k</a>"
      ],
      "text/plain": [
       "<IPython.core.display.HTML object>"
      ]
     },
     "metadata": {},
     "output_type": "display_data"
    },
    {
     "name": "stdout",
     "output_type": "stream",
     "text": [
      "WARNING:tensorflow:Error in loading the saved optimizer state. As a result, your model is starting with a freshly initialized optimizer.\n"
     ]
    },
    {
     "name": "stderr",
     "output_type": "stream",
     "text": [
      "WARNING:tensorflow:Error in loading the saved optimizer state. As a result, your model is starting with a freshly initialized optimizer.\n"
     ]
    },
    {
     "name": "stdout",
     "output_type": "stream",
     "text": [
      "Found 28821 images belonging to 7 classes.\n",
      "Found 7066 images belonging to 7 classes.\n",
      "{'0': 0, '1': 1, '2': 2, '3': 3, '4': 4, '5': 5, '6': 6}\n",
      "Epoch 1/100\n",
      "400/400 [==============================] - ETA: 0s - loss: 0.9852 - accuracy: 0.6357"
     ]
    },
    {
     "name": "stderr",
     "output_type": "stream",
     "text": [
      "WARNING:absl:Found untraced functions such as _jit_compiled_convolution_op, _jit_compiled_convolution_op while saving (showing 2 of 2). These functions will not be directly callable after loading.\n"
     ]
    },
    {
     "name": "stdout",
     "output_type": "stream",
     "text": [
      "INFO:tensorflow:Assets written to: c:\\AI\\Facial-Expression-Reconition\\wandb\\run-20230326_144621-4sxclj4k\\files\\model-best\\assets\n"
     ]
    },
    {
     "name": "stderr",
     "output_type": "stream",
     "text": [
      "INFO:tensorflow:Assets written to: c:\\AI\\Facial-Expression-Reconition\\wandb\\run-20230326_144621-4sxclj4k\\files\\model-best\\assets\n",
      "\u001b[34m\u001b[1mwandb\u001b[0m: Adding directory to artifact (c:\\AI\\Facial-Expression-Reconition\\wandb\\run-20230326_144621-4sxclj4k\\files\\model-best)... Done. 0.1s\n"
     ]
    },
    {
     "name": "stdout",
     "output_type": "stream",
     "text": [
      "400/400 [==============================] - 18s 43ms/step - loss: 0.9852 - accuracy: 0.6357 - val_loss: 0.8672 - val_accuracy: 0.6879\n",
      "Epoch 2/100\n",
      "400/400 [==============================] - 13s 32ms/step - loss: 0.9760 - accuracy: 0.6375 - val_loss: 0.8722 - val_accuracy: 0.6872\n",
      "Epoch 3/100\n",
      "400/400 [==============================] - 13s 31ms/step - loss: 0.9606 - accuracy: 0.6487 - val_loss: 0.8775 - val_accuracy: 0.6862\n",
      "Epoch 4/100\n",
      "400/400 [==============================] - 13s 32ms/step - loss: 0.9581 - accuracy: 0.6426 - val_loss: 0.8772 - val_accuracy: 0.6814\n",
      "Epoch 5/100\n",
      "400/400 [==============================] - 13s 32ms/step - loss: 0.9492 - accuracy: 0.6468 - val_loss: 0.8809 - val_accuracy: 0.6811\n",
      "Epoch 6/100\n",
      "400/400 [==============================] - 15s 37ms/step - loss: 0.9478 - accuracy: 0.6477 - val_loss: 0.8905 - val_accuracy: 0.6800\n",
      "Epoch 7/100\n",
      "400/400 [==============================] - 15s 37ms/step - loss: 0.9380 - accuracy: 0.6529 - val_loss: 0.9023 - val_accuracy: 0.6701\n",
      "Epoch 8/100\n",
      "400/400 [==============================] - 14s 36ms/step - loss: 0.9350 - accuracy: 0.6542 - val_loss: 0.9190 - val_accuracy: 0.6640\n",
      "Epoch 9/100\n",
      "400/400 [==============================] - 13s 32ms/step - loss: 0.9239 - accuracy: 0.6586 - val_loss: 0.8978 - val_accuracy: 0.6681\n",
      "Epoch 10/100\n",
      "400/400 [==============================] - 13s 32ms/step - loss: 0.9220 - accuracy: 0.6577 - val_loss: 0.9170 - val_accuracy: 0.6674\n",
      "Epoch 11/100\n",
      "400/400 [==============================] - 13s 31ms/step - loss: 0.9129 - accuracy: 0.6626 - val_loss: 0.9256 - val_accuracy: 0.6643\n",
      "Epoch 12/100\n",
      "400/400 [==============================] - ETA: 0s - loss: 0.9084 - accuracy: 0.6652Restoring model weights from the end of the best epoch: 1.\n",
      "400/400 [==============================] - 13s 31ms/step - loss: 0.9084 - accuracy: 0.6652 - val_loss: 0.9321 - val_accuracy: 0.6630\n",
      "Epoch 12: early stopping\n"
     ]
    },
    {
     "data": {
      "image/png": "[encoded data removed]",
      "text/plain": [
       "<Figure size 640x480 with 1 Axes>"
      ]
     },
     "metadata": {},
     "output_type": "display_data"
    },
    {
     "data": {
      "image/png": "[encoded data removed]",
      "text/plain": [
       "<Figure size 640x480 with 1 Axes>"
      ]
     },
     "metadata": {},
     "output_type": "display_data"
    },
    {
     "data": {
      "text/html": [
       "Waiting for W&B process to finish... <strong style=\"color:green\">(success).</strong>"
      ],
      "text/plain": [
       "<IPython.core.display.HTML object>"
      ]
     },
     "metadata": {},
     "output_type": "display_data"
    },
    {
     "data": {
      "text/html": [
       "<style>\n",
       "    table.wandb td:nth-child(1) { padding: 0 10px; text-align: left ; width: auto;} td:nth-child(2) {text-align: left ; width: 100%}\n",
       "    .wandb-row { display: flex; flex-direction: row; flex-wrap: wrap; justify-content: flex-start; width: 100% }\n",
       "    .wandb-col { display: flex; flex-direction: column; flex-basis: 100%; flex: 1; padding: 10px; }\n",
       "    </style>\n",
       "<div class=\"wandb-row\"><div class=\"wandb-col\"><h3>Run history:</h3><br/><table class=\"wandb\"><tr><td>accuracy</td><td>▁▁▄▃▄▄▅▅▆▆▇█</td></tr><tr><td>epoch</td><td>▁▂▂▃▄▄▅▅▆▇▇█</td></tr><tr><td>loss</td><td>█▇▆▆▅▅▄▃▂▂▁▁</td></tr><tr><td>val_accuracy</td><td>███▆▆▆▃▁▂▂▁▁</td></tr><tr><td>val_loss</td><td>▁▂▂▂▂▄▅▇▄▆▇█</td></tr></table><br/></div><div class=\"wandb-col\"><h3>Run summary:</h3><br/><table class=\"wandb\"><tr><td>accuracy</td><td>0.66522</td></tr><tr><td>best_epoch</td><td>0</td></tr><tr><td>best_val_loss</td><td>0.86723</td></tr><tr><td>epoch</td><td>11</td></tr><tr><td>loss</td><td>0.90843</td></tr><tr><td>val_accuracy</td><td>0.66303</td></tr><tr><td>val_loss</td><td>0.9321</td></tr></table><br/></div></div>"
      ],
      "text/plain": [
       "<IPython.core.display.HTML object>"
      ]
     },
     "metadata": {},
     "output_type": "display_data"
    },
    {
     "data": {
      "text/html": [
       " View run <strong style=\"color:#cdcd00\">treasured-disco-21</strong> at: <a href=\"https://wandb.ai/johnkhw/fyp-fer-fine-tune/runs/4sxclj4k\" target=\"_blank\">https://wandb.ai/johnkhw/fyp-fer-fine-tune/runs/4sxclj4k</a><br/>Synced 6 W&B file(s), 1 media file(s), 4 artifact file(s) and 1 other file(s)"
      ],
      "text/plain": [
       "<IPython.core.display.HTML object>"
      ]
     },
     "metadata": {},
     "output_type": "display_data"
    },
    {
     "data": {
      "text/html": [
       "Find logs at: <code>.\\wandb\\run-20230326_144621-4sxclj4k\\logs</code>"
      ],
      "text/plain": [
       "<IPython.core.display.HTML object>"
      ]
     },
     "metadata": {},
     "output_type": "display_data"
    }
   ],
   "source": [
    "import scipy\n",
    "import tensorflow as tf\n",
    "from wandb.keras  import WandbCallback\n",
    "\n",
    "class Model:\n",
    "    img_size = 48\n",
    "    num_classes = 7\n",
    "    root_path = \"./data/fer2\"\n",
    "    batch_size = 64\n",
    "    epochs = 100\n",
    "    learning_rate=0.00036156986755960413\n",
    "    postfix = \"\"\n",
    "    path = \"/fine-tune/v2\"\n",
    "\n",
    "    def __init__(self):\n",
    "        self.model = None\n",
    "\n",
    "    def build_model(self):\n",
    "        build_model(self)\n",
    "\n",
    "    def train_model(self, another_callback=[]):\n",
    "        train_model(self, another_callback)\n",
    "\n",
    "    def save_model(self, _path):\n",
    "        save_model(self, _path)\n",
    "\n",
    "if __name__ == \"__main__\":\n",
    "    img_size = 48\n",
    "    num_classes = 7\n",
    "    root_path = \"./data/fer2\"\n",
    "    batch_size = 64\n",
    "    epochs = 100\n",
    "    learning_rate=0.00036156986755960413\n",
    "    postfix = \"\"\n",
    "    wandb.init(project=\"fyp-fer-fine-tune\", entity=\"johnkhw\")\n",
    "    wandb.config = {\n",
    "        learning_rate,\n",
    "        epochs,\n",
    "        batch_size\n",
    "    }\n",
    "    wandb_callback = [\n",
    "        WandbCallback(),\n",
    "    ]\n",
    "    model = Model()\n",
    "    model.build_model()\n",
    "    model.train_model(wandb_callback)\n",
    "    model.save_model('_v3')\n",
    "    wandb.finish()"
   ]
  },
  {
   "cell_type": "code",
   "execution_count": 4,
   "metadata": {},
   "outputs": [
    {
     "name": "stdout",
     "output_type": "stream",
     "text": [
      "WARNING:tensorflow:Error in loading the saved optimizer state. As a result, your model is starting with a freshly initialized optimizer.\n",
      "Model: \"sequential_11\"\n",
      "_________________________________________________________________\n",
      " Layer (type)                Output Shape              Param #   \n",
      "=================================================================\n",
      " conv2d_22 (Conv2D)          (None, 46, 46, 32)        320       \n",
      "                                                                 \n",
      " max_pooling2d_22 (MaxPoolin  (None, 23, 23, 32)       0         \n",
      " g2D)                                                            \n",
      "                                                                 \n",
      " conv2d_23 (Conv2D)          (None, 21, 21, 64)        18496     \n",
      "                                                                 \n",
      " max_pooling2d_23 (MaxPoolin  (None, 10, 10, 64)       0         \n",
      " g2D)                                                            \n",
      "                                                                 \n",
      " flatten_10 (Flatten)        (None, 6400)              0         \n",
      "                                                                 \n",
      " dense_20 (Dense)            (None, 128)               819328    \n",
      "                                                                 \n",
      " dense_21 (Dense)            (None, 7)                 903       \n",
      "                                                                 \n",
      "=================================================================\n",
      "Total params: 839,047\n",
      "Trainable params: 839,047\n",
      "Non-trainable params: 0\n",
      "_________________________________________________________________\n",
      "Model: \"sequential\"\n",
      "_________________________________________________________________\n",
      " Layer (type)                Output Shape              Param #   \n",
      "=================================================================\n",
      " conv2d (Conv2D)             (None, 44, 44, 64)        1664      \n",
      "                                                                 \n",
      " max_pooling2d (MaxPooling2D  (None, 22, 22, 64)       0         \n",
      " )                                                               \n",
      "                                                                 \n",
      " conv2d_1 (Conv2D)           (None, 18, 18, 32)        51232     \n",
      "                                                                 \n",
      " max_pooling2d_1 (MaxPooling  (None, 9, 9, 32)         0         \n",
      " 2D)                                                             \n",
      "                                                                 \n",
      " dropout (Dropout)           (None, 9, 9, 32)          0         \n",
      "                                                                 \n",
      " flatten (Flatten)           (None, 2592)              0         \n",
      "                                                                 \n",
      " dense (Dense)               (None, 128)               331904    \n",
      "                                                                 \n",
      " dense_1 (Dense)             (None, 7)                 903       \n",
      "                                                                 \n",
      "=================================================================\n",
      "Total params: 385,703\n",
      "Trainable params: 385,703\n",
      "Non-trainable params: 0\n",
      "_________________________________________________________________\n"
     ]
    }
   ],
   "source": [
    "\n",
    "from tensorflow import keras\n",
    "\n",
    "model1 = keras.models.load_model('./data/fer/model.h5')\n",
    "model = keras.models.load_model('./data/fer2/model_v1.h5')\n",
    "model1.summary()\n",
    "model.summary()"
   ]
  }
 ],
 "metadata": {
  "kernelspec": {
   "display_name": "fyp-env",
   "language": "python",
   "name": "python3"
  },
  "language_info": {
   "codemirror_mode": {
    "name": "ipython",
    "version": 3
   },
   "file_extension": ".py",
   "mimetype": "text/x-python",
   "name": "python",
   "nbconvert_exporter": "python",
   "pygments_lexer": "ipython3",
   "version": "3.10.8"
  },
  "orig_nbformat": 4,
  "vscode": {
   "interpreter": {
    "hash": "515e3c4bb69b8fc5538ce8ee571d8d8518d28f831e5e7106b080a418fa73b22c"
   }
  }
 },
 "nbformat": 4,
 "nbformat_minor": 2
}
