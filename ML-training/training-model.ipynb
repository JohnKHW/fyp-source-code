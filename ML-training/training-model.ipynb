{
 "cells": [
  {
   "cell_type": "code",
   "execution_count": 1,
   "metadata": {},
   "outputs": [
    {
     "name": "stdout",
     "output_type": "stream",
     "text": [
      "Collecting opencv-pythonNote: you may need to restart the kernel to use updated packages.\n",
      "\n",
      "  Using cached opencv_python-4.7.0.68-cp37-abi3-win_amd64.whl (38.2 MB)\n",
      "Requirement already satisfied: keras in c:\\users\\wongk\\miniconda3\\envs\\fyp-env\\lib\\site-packages (2.10.0)\n",
      "Collecting keras\n",
      "  Using cached keras-2.11.0-py2.py3-none-any.whl (1.7 MB)\n",
      "Collecting matplotlib\n",
      "  Downloading matplotlib-3.6.3-cp310-cp310-win_amd64.whl (7.2 MB)\n",
      "     ---------------------------------------- 7.2/7.2 MB 18.5 MB/s eta 0:00:00\n",
      "Requirement already satisfied: numpy in c:\\users\\wongk\\appdata\\roaming\\python\\python310\\site-packages (1.22.3)\n",
      "Collecting numpy\n",
      "  Downloading numpy-1.24.1-cp310-cp310-win_amd64.whl (14.8 MB)\n",
      "     --------------------------------------- 14.8/14.8 MB 17.7 MB/s eta 0:00:00\n",
      "Collecting scipy\n",
      "  Downloading scipy-1.10.0-cp310-cp310-win_amd64.whl (42.5 MB)\n",
      "     --------------------------------------- 42.5/42.5 MB 16.0 MB/s eta 0:00:00\n",
      "Collecting pillow>=6.2.0\n",
      "  Downloading Pillow-9.4.0-cp310-cp310-win_amd64.whl (2.5 MB)\n",
      "     ---------------------------------------- 2.5/2.5 MB 15.7 MB/s eta 0:00:00\n",
      "Collecting kiwisolver>=1.0.1\n",
      "  Downloading kiwisolver-1.4.4-cp310-cp310-win_amd64.whl (55 kB)\n",
      "     ---------------------------------------- 55.3/55.3 kB ? eta 0:00:00\n",
      "Collecting cycler>=0.10\n",
      "  Using cached cycler-0.11.0-py3-none-any.whl (6.4 kB)\n",
      "Requirement already satisfied: packaging>=20.0 in c:\\users\\wongk\\miniconda3\\envs\\fyp-env\\lib\\site-packages (from matplotlib) (23.0)\n",
      "Collecting pyparsing>=2.2.1\n",
      "  Using cached pyparsing-3.0.9-py3-none-any.whl (98 kB)\n",
      "Collecting contourpy>=1.0.1\n",
      "  Downloading contourpy-1.0.7-cp310-cp310-win_amd64.whl (162 kB)\n",
      "     ------------------------------------- 163.0/163.0 kB 10.2 MB/s eta 0:00:00\n",
      "Requirement already satisfied: python-dateutil>=2.7 in c:\\users\\wongk\\miniconda3\\envs\\fyp-env\\lib\\site-packages (from matplotlib) (2.8.2)\n",
      "Collecting fonttools>=4.22.0\n",
      "  Using cached fonttools-4.38.0-py3-none-any.whl (965 kB)\n",
      "Requirement already satisfied: six>=1.5 in c:\\users\\wongk\\miniconda3\\envs\\fyp-env\\lib\\site-packages (from python-dateutil>=2.7->matplotlib) (1.16.0)\n",
      "Installing collected packages: pyparsing, pillow, numpy, kiwisolver, keras, fonttools, cycler, scipy, opencv-python, contourpy, matplotlib\n",
      "  Attempting uninstall: numpy\n",
      "    Found existing installation: numpy 1.22.3\n",
      "    Uninstalling numpy-1.22.3:\n",
      "      Successfully uninstalled numpy-1.22.3\n",
      "  Attempting uninstall: keras\n",
      "    Found existing installation: keras 2.10.0\n",
      "    Uninstalling keras-2.10.0:\n",
      "      Successfully uninstalled keras-2.10.0\n",
      "Successfully installed contourpy-1.0.7 cycler-0.11.0 fonttools-4.38.0 keras-2.11.0 kiwisolver-1.4.4 matplotlib-3.6.3 numpy-1.24.1 opencv-python-4.7.0.68 pillow-9.4.0 pyparsing-3.0.9 scipy-1.10.0\n"
     ]
    },
    {
     "name": "stderr",
     "output_type": "stream",
     "text": [
      "WARNING: Ignoring invalid distribution -ensorflow-intel (c:\\users\\wongk\\appdata\\roaming\\python\\python310\\site-packages)\n",
      "WARNING: Ignoring invalid distribution -ensorflow-intel (c:\\users\\wongk\\appdata\\roaming\\python\\python310\\site-packages)\n",
      "WARNING: Ignoring invalid distribution -ensorflow-intel (c:\\users\\wongk\\appdata\\roaming\\python\\python310\\site-packages)\n",
      "    WARNING: Ignoring invalid distribution -ensorflow-intel (c:\\users\\wongk\\appdata\\roaming\\python\\python310\\site-packages)\n",
      "    WARNING: Ignoring invalid distribution -ensorflow-intel (c:\\users\\wongk\\appdata\\roaming\\python\\python310\\site-packages)\n",
      "ERROR: pip's dependency resolver does not currently take into account all the packages that are installed. This behaviour is the source of the following dependency conflicts.\n",
      "tensorflow 2.10.0 requires keras<2.11,>=2.10.0, but you have keras 2.11.0 which is incompatible.\n",
      "WARNING: Ignoring invalid distribution -ensorflow-intel (c:\\users\\wongk\\appdata\\roaming\\python\\python310\\site-packages)\n",
      "WARNING: Ignoring invalid distribution -ensorflow-intel (c:\\users\\wongk\\appdata\\roaming\\python\\python310\\site-packages)\n",
      "WARNING: Ignoring invalid distribution -ensorflow-intel (c:\\users\\wongk\\appdata\\roaming\\python\\python310\\site-packages)\n"
     ]
    }
   ],
   "source": [
    "# This project is aim to develop a model to do facial expression recognition\n",
    "\n",
    "# Install the following packages\n",
    "%pip install opencv-python keras matplotlib numpy scipy scikit-image --upgrade"
   ]
  },
  {
   "cell_type": "code",
   "execution_count": 4,
   "metadata": {},
   "outputs": [
    {
     "name": "stdout",
     "output_type": "stream",
     "text": [
      "Note: you may need to restart the kernel to use updated packages.\n"
     ]
    },
    {
     "name": "stderr",
     "output_type": "stream",
     "text": [
      "WARNING: Ignoring invalid distribution -ensorflow-intel (c:\\users\\wongk\\appdata\\roaming\\python\\python310\\site-packages)\n",
      "WARNING: Ignoring invalid distribution -ensorflow-intel (c:\\users\\wongk\\appdata\\roaming\\python\\python310\\site-packages)\n",
      "WARNING: Ignoring invalid distribution -ensorflow-intel (c:\\users\\wongk\\appdata\\roaming\\python\\python310\\site-packages)\n",
      "WARNING: Ignoring invalid distribution -ensorflow-intel (c:\\users\\wongk\\appdata\\roaming\\python\\python310\\site-packages)\n",
      "WARNING: Ignoring invalid distribution -ensorflow-intel (c:\\users\\wongk\\appdata\\roaming\\python\\python310\\site-packages)\n",
      "WARNING: Ignoring invalid distribution -ensorflow-intel (c:\\users\\wongk\\appdata\\roaming\\python\\python310\\site-packages)\n"
     ]
    }
   ],
   "source": [
    "%pip install wandb -qU"
   ]
  },
  {
   "cell_type": "code",
   "execution_count": 1,
   "metadata": {},
   "outputs": [],
   "source": [
    "import csv\n",
    "\n",
    "dataset_path = './data/fer/'\n",
    "\n",
    "train_csv = dataset_path + 'train.csv'\n",
    "test_csv = dataset_path + 'test.csv'\n",
    "val_csv = dataset_path + 'val.csv'\n",
    "csv_file = dataset_path + 'fer2013.csv'"
   ]
  },
  {
   "cell_type": "code",
   "execution_count": null,
   "metadata": {},
   "outputs": [
    {
     "name": "stdout",
     "output_type": "stream",
     "text": [
      "['emotion', 'pixels', 'Usage']\n",
      "Training data:  28709\n",
      "Validation data:  3589\n",
      "Test data:  3589\n"
     ]
    }
   ],
   "source": [
    "# Split the data into training, validation and test set\n",
    "with open(csv_file) as f:\n",
    "    csvr = csv.reader(f)\n",
    "    header = next(csvr)\n",
    "    print(header)\n",
    "    rows = [row for row in csvr]\n",
    "\n",
    "    trn = [row[:-1] for row in rows if row[-1] == 'Training']\n",
    "    csv.writer(open(train_csv, 'w+'), lineterminator='\\n').writerows([header[:-1]] + trn)\n",
    "    print('Training data: ', len(trn))\n",
    "\n",
    "    val = [row[:-1] for row in rows if row[-1] == 'PublicTest']\n",
    "    csv.writer(open(val_csv, 'w+'), lineterminator='\\n').writerows([header[:-1]] + val)\n",
    "    print('Validation data: ', len(val))\n",
    "\n",
    "    tst = [row[:-1] for row in rows if row[-1] == 'PrivateTest']\n",
    "    csv.writer(open(test_csv, 'w+'), lineterminator='\\n').writerows([header[:-1]] + tst)\n",
    "    print('Test data: ', len(tst))"
   ]
  },
  {
   "cell_type": "code",
   "execution_count": 1,
   "metadata": {},
   "outputs": [
    {
     "name": "stdout",
     "output_type": "stream",
     "text": [
      "Collecting scikit-image\n",
      "  Downloading scikit_image-0.19.3-cp310-cp310-win_amd64.whl (12.0 MB)\n",
      "     ---------------------------------------- 12.0/12.0 MB 2.2 MB/s eta 0:00:00\n",
      "Requirement already satisfied: packaging>=20.0 in c:\\users\\wongk\\miniconda3\\envs\\fyp-env\\lib\\site-packages (from scikit-image) (23.0)\n",
      "Collecting networkx>=2.2\n",
      "  Downloading networkx-3.0-py3-none-any.whl (2.0 MB)\n",
      "     ---------------------------------------- 2.0/2.0 MB 2.4 MB/s eta 0:00:00\n",
      "Collecting PyWavelets>=1.1.1\n",
      "  Downloading PyWavelets-1.4.1-cp310-cp310-win_amd64.whl (4.2 MB)\n",
      "     ---------------------------------------- 4.2/4.2 MB 2.1 MB/s eta 0:00:00\n",
      "Requirement already satisfied: scipy>=1.4.1 in c:\\users\\wongk\\miniconda3\\envs\\fyp-env\\lib\\site-packages (from scikit-image) (1.10.0)\n",
      "Collecting imageio>=2.4.1\n",
      "  Downloading imageio-2.25.0-py3-none-any.whl (3.4 MB)\n",
      "     ---------------------------------------- 3.4/3.4 MB 2.1 MB/s eta 0:00:00\n",
      "Requirement already satisfied: pillow!=7.1.0,!=7.1.1,!=8.3.0,>=6.1.0 in c:\\users\\wongk\\miniconda3\\envs\\fyp-env\\lib\\site-packages (from scikit-image) (9.4.0)\n",
      "Requirement already satisfied: numpy>=1.17.0 in c:\\users\\wongk\\miniconda3\\envs\\fyp-env\\lib\\site-packages (from scikit-image) (1.24.1)\n",
      "Collecting tifffile>=2019.7.26\n",
      "  Downloading tifffile-2023.2.2-py3-none-any.whl (214 kB)\n",
      "     -------------------------------------- 215.0/215.0 kB 1.9 MB/s eta 0:00:00\n",
      "Installing collected packages: tifffile, PyWavelets, networkx, imageio, scikit-image\n",
      "Successfully installed PyWavelets-1.4.1 imageio-2.25.0 networkx-3.0 scikit-image-0.19.3 tifffile-2023.2.2\n",
      "Note: you may need to restart the kernel to use updated packages.\n"
     ]
    },
    {
     "name": "stderr",
     "output_type": "stream",
     "text": [
      "WARNING: Ignoring invalid distribution -ensorflow-intel (c:\\users\\wongk\\appdata\\roaming\\python\\python310\\site-packages)\n",
      "WARNING: Ignoring invalid distribution -ensorflow-intel (c:\\users\\wongk\\appdata\\roaming\\python\\python310\\site-packages)\n",
      "WARNING: Ignoring invalid distribution -ensorflow-intel (c:\\users\\wongk\\appdata\\roaming\\python\\python310\\site-packages)\n",
      "WARNING: Ignoring invalid distribution -ensorflow-intel (c:\\users\\wongk\\appdata\\roaming\\python\\python310\\site-packages)\n",
      "WARNING: Ignoring invalid distribution -ensorflow-intel (c:\\users\\wongk\\appdata\\roaming\\python\\python310\\site-packages)\n",
      "WARNING: Ignoring invalid distribution -ensorflow-intel (c:\\users\\wongk\\appdata\\roaming\\python\\python310\\site-packages)\n"
     ]
    }
   ],
   "source": [
    "%pip install scikit-image"
   ]
  },
  {
   "cell_type": "code",
   "execution_count": 18,
   "metadata": {},
   "outputs": [],
   "source": [
    "#extract the data from csv file\n",
    "\n",
    "import csv\n",
    "import os\n",
    "import cv2\n",
    "from PIL import Image\n",
    "import numpy as np\n",
    "from skimage import filters\n",
    "\n",
    "dataset_path = \"./data/fer/\"\n",
    "train_csv = os.path.join(dataset_path, \"train.csv\")\n",
    "test_csv = os.path.join(dataset_path, \"test.csv\")\n",
    "val_csv = os.path.join(dataset_path, \"val.csv\")\n",
    "\n",
    "train_set = os.path.join(dataset_path, \"train\")\n",
    "test_set = os.path.join(dataset_path, \"test\")\n",
    "val_set = os.path.join(dataset_path, \"val\")\n",
    "\n",
    "for save_path, csv_file in [\n",
    "    (train_set, train_csv),\n",
    "    # (test_set, test_csv),\n",
    "    # (val_set, val_csv),\n",
    "]:\n",
    "    if not os.path.exists(save_path):\n",
    "        os.mkdir(save_path)\n",
    "\n",
    "    num = 1\n",
    "    with open(csv_file) as f:\n",
    "        csvr = csv.reader(f)\n",
    "        header = next(csvr)\n",
    "        for i, (label, pixel) in enumerate(csvr):\n",
    "            pixel = np.array([float(p) for p in pixel.split()]).reshape(48, 48)\n",
    "            subfolder = os.path.join(save_path, label)\n",
    "            if not os.path.exists(subfolder):\n",
    "                os.mkdir(subfolder)\n",
    "            cv2.imwrite(os.path.join(subfolder, \"{:05d}.jpg\".format(i)), pixel)"
   ]
  },
  {
   "cell_type": "code",
   "execution_count": 17,
   "metadata": {},
   "outputs": [
    {
     "name": "stderr",
     "output_type": "stream",
     "text": [
      "1293it [00:59, 18.81it/s]C:\\Users\\wongk\\AppData\\Local\\Temp\\ipykernel_26828\\3818744599.py:88: RuntimeWarning: invalid value encountered in divide\n",
      "  out = out / out.max() * 255\n",
      "C:\\Users\\wongk\\AppData\\Local\\Temp\\ipykernel_26828\\3818744599.py:89: RuntimeWarning: invalid value encountered in cast\n",
      "  out = out.astype(np.uint8)\n",
      "3589it [02:43, 21.95it/s]\n"
     ]
    },
    {
     "data": {
      "text/plain": [
       "<Figure size 640x480 with 0 Axes>"
      ]
     },
     "metadata": {},
     "output_type": "display_data"
    }
   ],
   "source": [
    "#preprocess the data using gabor filter\n",
    "\n",
    "import cv2\n",
    "import os\n",
    "import numpy as np\n",
    "import matplotlib.pyplot as plt\n",
    "import csv\n",
    "from PIL import Image\n",
    "import numpy as np\n",
    "from skimage import filters\n",
    "from tqdm import tqdm\n",
    "\n",
    "# Grayscale\n",
    "def BGR2GRAY(img):\n",
    "    # Grayscale\n",
    "    gray = 0.2126 * img[..., 2] + 0.7152 * img[..., 1] + 0.0722 * img[..., 0]\n",
    "    return gray\n",
    "\n",
    "# Gabor\n",
    "def Gabor_filter(K_size=111, Sigma=10, Gamma=1.2, Lambda=10, Psi=0, angle=0):\n",
    "    # get half size\n",
    "    d = K_size // 2\n",
    "\n",
    "    # prepare kernel\n",
    "    gabor = np.zeros((K_size, K_size), dtype=np.float32)\n",
    "\n",
    "    # each value\n",
    "    for y in range(K_size):\n",
    "        for x in range(K_size):\n",
    "            # distance from center\n",
    "            px = x - d\n",
    "            py = y - d\n",
    "\n",
    "            # degree -> radian\n",
    "            theta = angle / 180. * np.pi\n",
    "\n",
    "            # get kernel x\n",
    "            _x = np.cos(theta) * px + np.sin(theta) * py\n",
    "\n",
    "            # get kernel y\n",
    "            _y = -np.sin(theta) * px + np.cos(theta) * py\n",
    "\n",
    "            # fill kernel\n",
    "            gabor[y, x] = np.exp(-(_x**2 + Gamma**2 * _y**2) / (2 * Sigma**2)) * np.cos(2*np.pi*_x/Lambda + Psi)\n",
    "\n",
    "    # kernel normalization\n",
    "    gabor /= np.sum(np.abs(gabor))\n",
    "\n",
    "    return gabor\n",
    "\n",
    "\n",
    "def Gabor_filtering(gray, K_size=111, Sigma=10, Gamma=1.2, Lambda=10, Psi=0, angle=0):\n",
    "    # get shape\n",
    "    H, W = gray.shape\n",
    "\n",
    "    # padding\n",
    "    gray = np.pad(gray, (K_size//2, K_size//2), 'edge')\n",
    "\n",
    "    # prepare out image\n",
    "    out = np.zeros((H, W), dtype=np.float32)\n",
    "\n",
    "    # get gabor filter\n",
    "    gabor = Gabor_filter(K_size=K_size, Sigma=Sigma, Gamma=Gamma, Lambda=Lambda, Psi=0, angle=angle)\n",
    "\n",
    "    # filtering\n",
    "    for y in range(H):\n",
    "        for x in range(W):\n",
    "            out[y, x] = np.sum(gray[y : y + K_size, x : x + K_size] * gabor)\n",
    "\n",
    "    out = np.clip(out, 0, 255)\n",
    "    out = out.astype(np.uint8)\n",
    "\n",
    "    return out\n",
    "\n",
    "\n",
    "def Gabor_process(gray):\n",
    "    # define angle\n",
    "    As = [0, 45, 90, 135]\n",
    "\n",
    "    # prepare pyplot\n",
    "    plt.subplots_adjust(left=0, right=1, top=1, bottom=0, hspace=0, wspace=0.2)\n",
    "\n",
    "    out = np.zeros([48, 48], dtype=np.float32)\n",
    "\n",
    "    # each angle\n",
    "    for i, A in enumerate(As):\n",
    "        # gabor filtering\n",
    "        _out = Gabor_filtering(gray, K_size=11, Sigma=1.5, Gamma=1.2, Lambda=3, angle=A)\n",
    "\n",
    "        # add gabor filtered image\n",
    "        out += _out\n",
    "\n",
    "    # scale normalization\n",
    "    out = out / out.max() * 255\n",
    "    out = out.astype(np.uint8)\n",
    "\n",
    "    return out\n",
    "\n",
    "\n",
    "postfix = \"_gabor\"\n",
    "dataset_path = \"./data/fer/\"\n",
    "train_csv = os.path.join(dataset_path, \"train.csv\")\n",
    "test_csv = os.path.join(dataset_path, \"test.csv\")\n",
    "val_csv = os.path.join(dataset_path, \"val.csv\")\n",
    "\n",
    "train_set = os.path.join(dataset_path, \"train\"+postfix)\n",
    "test_set = os.path.join(dataset_path, \"test\"+postfix)\n",
    "val_set = os.path.join(dataset_path, \"val\"+postfix)\n",
    "\n",
    "for save_path, csv_file in [\n",
    "    (train_set, train_csv),\n",
    "    (test_set, test_csv),\n",
    "    (val_set, val_csv),\n",
    "]:\n",
    "    if not os.path.exists(save_path):\n",
    "        os.mkdir(save_path)\n",
    "    with open(csv_file) as f:\n",
    "        csvr = csv.reader(f)\n",
    "        header = next(csvr)\n",
    "        for i, (label, pixel) in tqdm (enumerate(csvr)):\n",
    "            pixel = np.array([float(p) for p in pixel.split()]).reshape(48, 48)\n",
    "            filtered_img = Gabor_process(pixel)\n",
    "            subfolder = os.path.join(save_path, label)\n",
    "            if not os.path.exists(subfolder):\n",
    "                os.mkdir(subfolder)\n",
    "            cv2.imwrite(os.path.join(subfolder, \"{:05d}.jpg\".format(i)), filtered_img)\n"
   ]
  },
  {
   "cell_type": "code",
   "execution_count": 26,
   "metadata": {},
   "outputs": [],
   "source": [
    "# Building model\n",
    "\n",
    "from tensorflow import keras\n",
    "from keras.models import Sequential\n",
    "from keras.layers import Dense, Conv2D, Flatten, MaxPooling2D, Dropout, Activation, BatchNormalization\n",
    "import tensorflow as tf\n",
    "\n",
    "\n",
    "# Build the model\n",
    "def build_model(self):\n",
    "    gpus = tf.config.list_physical_devices('GPU')\n",
    "    print(gpus[0])\n",
    "    with tf.device(\"/gpu:0\"):\n",
    "        self.model = Sequential()\n",
    "        self.model.add(Conv2D(32, (3,3), activation='relu', input_shape=(48, 48, 1)))\n",
    "        self.model.add(MaxPooling2D((2, 2)))\n",
    "        self.model.add(Conv2D(64, (3,3), activation='relu'))\n",
    "        self.model.add(MaxPooling2D((2, 2)))\n",
    "        self.model.add(Dropout(0.5))\n",
    "        self.model.add(Flatten())\n",
    "        self.model.add(Dense(128, activation='relu'))\n",
    "        self.model.add(Dense(7, activation='softmax'))\n"
   ]
  },
  {
   "cell_type": "code",
   "execution_count": null,
   "metadata": {},
   "outputs": [],
   "source": [
    "\n",
    "# old model v2\n",
    "from tensorflow import keras\n",
    "from keras.models import Sequential\n",
    "from keras.layers import Dense, Conv2D, Flatten, MaxPooling2D, Dropout, Activation, BatchNormalization\n",
    "import tensorflow as tf\n",
    "\n",
    "\n",
    "# Build the model\n",
    "def Old_2_build_model(self):\n",
    "    gpus = tf.config.list_physical_devices('GPU')\n",
    "    print(gpus[0])\n",
    "    with tf.device(\"/gpu:0\"):\n",
    "        self.model = Sequential()\n",
    "\n",
    "        self.model.add(Conv2D(filters = 64,kernel_size = (5, 5),input_shape = (48, 48, 1),activation = 'relu',padding = 'same',kernel_initializer = 'he_normal'))\n",
    "        self.model.add(BatchNormalization())\n",
    "\n",
    "        self.model.add(Conv2D(filters = 64,kernel_size = (5, 5),activation = 'relu',padding = 'same',kernel_initializer = 'he_normal'))\n",
    "        self.model.add(BatchNormalization())\n",
    "        self.model.add(MaxPooling2D(pool_size = (2, 2)))\n",
    "        self.model.add(Dropout(0.4))\n",
    "\n",
    "        self.model.add(Conv2D(filters = 128,kernel_size = (3, 3),activation = 'relu',padding = 'same',kernel_initializer = 'he_normal'))\n",
    "        self.model.add(BatchNormalization())\n",
    "        self.model.add(Conv2D(filters = 128,kernel_size = (3, 3),activation = 'relu',padding = 'same',kernel_initializer = 'he_normal'))\n",
    "        self.model.add(BatchNormalization())\n",
    "        self.model.add(MaxPooling2D(pool_size = (2, 2)))\n",
    "        self.model.add(Dropout(0.4))\n",
    "\n",
    "        self.model.add(Conv2D(filters = 256,kernel_size = (3, 3),activation = 'relu',padding = 'same',kernel_initializer = 'he_normal'))\n",
    "        self.model.add(BatchNormalization())\n",
    "        self.model.add(Conv2D(filters = 256,kernel_size = (3, 3),activation = 'relu',padding = 'same',kernel_initializer = 'he_normal'))\n",
    "        self.model.add(BatchNormalization())\n",
    "        self.model.add(MaxPooling2D(pool_size = (2, 2)))\n",
    "        self.model.add(Dropout(0.4))\n",
    "\n",
    "        self.model.add(Conv2D(filters = 512,kernel_size = (3, 3),activation = 'relu',padding = 'same',kernel_initializer = 'he_normal'))\n",
    "        self.model.add(BatchNormalization())\n",
    "        self.model.add(Conv2D(filters = 512,kernel_size = (3, 3),activation = 'relu',padding = 'same',kernel_initializer = 'he_normal'))\n",
    "        self.model.add(BatchNormalization())\n",
    "        self.model.add(MaxPooling2D(pool_size = (2, 2)))\n",
    "        self.model.add(Dropout(0.25))\n",
    "\n",
    "\n",
    "        self.model.add(Flatten(name='flatten'))       \n",
    "        self.model.add(Dense(512,activation='relu',kernel_initializer='he_normal',))\n",
    "        self.model.add(BatchNormalization())   \n",
    "        self.model.add(Dropout(0.6))\n",
    "        self.model.add(Dense(7,activation='softmax'))\n"
   ]
  },
  {
   "cell_type": "code",
   "execution_count": 43,
   "metadata": {},
   "outputs": [],
   "source": [
    "#old model\n",
    "from tensorflow import keras\n",
    "from keras.models import Sequential\n",
    "from keras.layers import Dense, Conv2D, Flatten, MaxPooling2D, Dropout, Activation, BatchNormalization\n",
    "import tensorflow as tf\n",
    "\n",
    "\n",
    "# Build the model\n",
    "def old_build_model(self):\n",
    "    gpus = tf.config.list_physical_devices('GPU')\n",
    "    print(gpus[0])\n",
    "    with tf.device(\"/gpu:0\"):\n",
    "        self.model = Sequential()\n",
    "\n",
    "        # 1st Convolutional Layer\n",
    "        self.model.add(Conv2D(32, (1, 1), strides=1, padding='same', input_shape=(img_size, img_size, 1)))\n",
    "        self.model.add(Activation('relu')) # Activation Layer\n",
    "        self.model.add(Conv2D(32, (5, 5), padding='same'))\n",
    "        self.model.add(Activation('relu')) # Activation Layer\n",
    "        self.model.add(MaxPooling2D(pool_size=(2, 2))) # Max Pooling\n",
    "\n",
    "        # 2nd Convolutional Layer\n",
    "        self.model.add(Conv2D(32, (3, 3), padding='same'))\n",
    "        self.model.add(Activation('relu')) # Activation Layer\n",
    "        self.model.add(MaxPooling2D(pool_size=(2, 2))) # Max Pooling\n",
    "\n",
    "        # 3rd Convolutional Layer\n",
    "        self.model.add(Conv2D(32, (3, 3), padding='same'))\n",
    "        self.model.add(Activation('relu')) # Activation Layer\n",
    "        self.model.add(MaxPooling2D(pool_size=(2, 2))) # Max Pooling\n",
    "\n",
    "        self.model.add(Flatten()) # Flatten before fully connected layers\n",
    "        self.model.add(Dense(128)) # Fully Connected Layer\n",
    "        self.model.add(Activation('relu')) # Activation Layer\n",
    "        self.model.add(Dropout(0.5)) # Dropout\n",
    "        self.model.add(Dense(1024)) # Output Layer\n",
    "        self.model.add(Activation('relu')) # Activation Layer\n",
    "        self.model.add(Dropout(0.5)) # Dropout\n",
    "        self.model.add(Dense(num_classes)) # Output Layer\n",
    "        self.model.add(Activation('softmax')) # Softmax\n",
    "        self.model.summary()\n",
    "        \n"
   ]
  },
  {
   "cell_type": "code",
   "execution_count": 8,
   "metadata": {},
   "outputs": [],
   "source": [
    "# Train the model\n",
    "\n",
    "from keras.optimizers import SGD, Adam\n",
    "from keras.preprocessing.image import ImageDataGenerator\n",
    "from keras.callbacks import EarlyStopping, ModelCheckpoint\n",
    "import matplotlib.pyplot as plt\n",
    "from tqdm import tqdm\n",
    "\n",
    "def train_model(self, extra_callbacks=[]):\n",
    "\n",
    "    root_path = self.root_path\n",
    "    learning_rate = self.learning_rate\n",
    "    batch_size= self.batch_size\n",
    "    epochs = self.epochs\n",
    "    img_size = self.img_size\n",
    "    postfix = self.postfix\n",
    "\n",
    "    sgd = SGD(lr=learning_rate, decay=1e-6, momentum=0.9, nesterov=True)\n",
    "    adam = Adam(learning_rate)\n",
    "    self.model.compile(\n",
    "        loss=\"categorical_crossentropy\", optimizer=adam, metrics=[\"accuracy\"]\n",
    "    )\n",
    "\n",
    "    train_datagen = ImageDataGenerator(\n",
    "        rescale=1.0 / 255, shear_range=0.2, zoom_range=0.2, horizontal_flip=True\n",
    "    )\n",
    "\n",
    "    val_datagen = ImageDataGenerator(rescale=1.0 / 255)\n",
    "    eval_datagen = ImageDataGenerator(rescale=1.0 / 255)\n",
    "    train_generator = train_datagen.flow_from_directory(\n",
    "        root_path + \"/train\"+postfix,\n",
    "        target_size=(img_size, img_size),\n",
    "        color_mode=\"grayscale\",\n",
    "        batch_size=batch_size,\n",
    "        class_mode=\"categorical\"\n",
    "    )\n",
    "\n",
    "    val_generator = val_datagen.flow_from_directory(\n",
    "        root_path + \"/val\"+postfix,\n",
    "        target_size=(img_size, img_size),\n",
    "        color_mode=\"grayscale\",\n",
    "        batch_size=batch_size,\n",
    "        class_mode=\"categorical\"\n",
    "    )\n",
    "\n",
    "    eval_generator = eval_datagen.flow_from_directory(\n",
    "        root_path + \"/test\"+postfix,\n",
    "        target_size=(img_size, img_size),\n",
    "        color_mode=\"grayscale\",\n",
    "        batch_size=batch_size,\n",
    "        class_mode=\"categorical\"\n",
    "    )\n",
    "\n",
    "    print(val_generator.class_indices)\n",
    "\n",
    "    es_cb = EarlyStopping(monitor='val_accuracy',\n",
    "        min_delta=0.00005,\n",
    "        patience=11,\n",
    "        verbose=1,\n",
    "        restore_best_weights=True,\n",
    "    )\n",
    "    cp_cb = ModelCheckpoint(\n",
    "        filepath='model.h5',\n",
    "        save_best_only=True,\n",
    "    )\n",
    "\n",
    "    history_fit = self.model.fit(\n",
    "        train_generator,\n",
    "        steps_per_epoch=800/(batch_size/32), #28709\n",
    "        epochs=epochs,\n",
    "        # validation_steps=2000,\n",
    "        validation_data=val_generator,\n",
    "        callbacks=[es_cb] + extra_callbacks,\n",
    "    )\n",
    "\n",
    "    history_predict = tqdm(self.model.evaluate(eval_generator, steps=2000))\n",
    "\n",
    "    #draw the graph\n",
    "    plot_history(history_fit)\n",
    "\n",
    "def plot_history(history):\n",
    "    plt.plot(history.history['accuracy'], label='train_accuracy')\n",
    "    plt.plot(history.history['val_accuracy'], label='val_accuracy')\n",
    "    plt.legend()\n",
    "    plt.title('Accuracy Plot')\n",
    "    plt.xlabel('Epoch')\n",
    "    plt.ylabel('Accuracy')\n",
    "    plt.show()\n",
    "\n",
    "    plt.plot(history.history['loss'], label='train_loss')\n",
    "    plt.plot(history.history['val_loss'], label='val_loss')\n",
    "    plt.legend()\n",
    "    plt.title('Loss Plot')\n",
    "    plt.xlabel('Epoch')\n",
    "    plt.ylabel('Loss')\n",
    "    plt.show()\n"
   ]
  },
  {
   "cell_type": "code",
   "execution_count": 6,
   "metadata": {},
   "outputs": [],
   "source": [
    "# Save the model\n",
    "\n",
    "def save_model(self):\n",
    "    root_path = self.root_path\n",
    "    model_json = self.model.to_json()\n",
    "    with open(root_path+\"/model.json\", \"w\") as json_file:\n",
    "        json_file.write(model_json)\n",
    "    self.model.save_weights(root_path+\"/model_weight.h5\")\n",
    "    self.model.save(root_path+\"/model.h5\")"
   ]
  },
  {
   "cell_type": "code",
   "execution_count": 3,
   "metadata": {},
   "outputs": [
    {
     "name": "stdout",
     "output_type": "stream",
     "text": [
      "[PhysicalDevice(name='/physical_device:GPU:0', device_type='GPU')]\n"
     ]
    }
   ],
   "source": [
    "import tensorflow as tf;  \n",
    "gpus = tf.config.list_physical_devices('GPU')\n",
    "print(gpus)\n",
    "if gpus: \n",
    "    tf.config.set_logical_device_configuration(\n",
    "        gpus[0],\n",
    "        [tf.config.LogicalDeviceConfiguration(memory_limit=5292)]\n",
    "    )"
   ]
  },
  {
   "cell_type": "code",
   "execution_count": 5,
   "metadata": {},
   "outputs": [],
   "source": [
    "\n",
    "import wandb\n",
    "\n",
    "# Const variables\n",
    "img_size = 48\n",
    "num_classes = 7\n",
    "root_path = \"./data/fer\"\n",
    "batch_size = 64\n",
    "epochs = 500\n",
    "learning_rate=0.001\n"
   ]
  },
  {
   "cell_type": "code",
   "execution_count": 2,
   "metadata": {},
   "outputs": [
    {
     "name": "stderr",
     "output_type": "stream",
     "text": [
      "Failed to detect the name of this notebook, you can set it manually with the WANDB_NOTEBOOK_NAME environment variable to enable code saving.\n",
      "\u001b[34m\u001b[1mwandb\u001b[0m: Currently logged in as: \u001b[33mjohnkhw\u001b[0m. Use \u001b[1m`wandb login --relogin`\u001b[0m to force relogin\n"
     ]
    },
    {
     "data": {
      "text/plain": [
       "True"
      ]
     },
     "execution_count": 2,
     "metadata": {},
     "output_type": "execute_result"
    }
   ],
   "source": [
    "import wandb\n",
    "wandb.login()\n"
   ]
  },
  {
   "cell_type": "code",
   "execution_count": 28,
   "metadata": {},
   "outputs": [
    {
     "data": {
      "text/html": [
       "Tracking run with wandb version 0.13.9"
      ],
      "text/plain": [
       "<IPython.core.display.HTML object>"
      ]
     },
     "metadata": {},
     "output_type": "display_data"
    },
    {
     "data": {
      "text/html": [
       "Run data is saved locally in <code>c:\\AI\\Facial-Expression-Reconition\\wandb\\run-20230205_214849-67a3wq40</code>"
      ],
      "text/plain": [
       "<IPython.core.display.HTML object>"
      ]
     },
     "metadata": {},
     "output_type": "display_data"
    },
    {
     "data": {
      "text/html": [
       "Syncing run <strong><a href=\"https://wandb.ai/johnkhw/fyp-fer/runs/67a3wq40\" target=\"_blank\">auspicious-festival-40</a></strong> to <a href=\"https://wandb.ai/johnkhw/fyp-fer\" target=\"_blank\">Weights & Biases</a> (<a href=\"https://wandb.me/run\" target=\"_blank\">docs</a>)<br/>"
      ],
      "text/plain": [
       "<IPython.core.display.HTML object>"
      ]
     },
     "metadata": {},
     "output_type": "display_data"
    },
    {
     "data": {
      "text/html": [
       " View project at <a href=\"https://wandb.ai/johnkhw/fyp-fer\" target=\"_blank\">https://wandb.ai/johnkhw/fyp-fer</a>"
      ],
      "text/plain": [
       "<IPython.core.display.HTML object>"
      ]
     },
     "metadata": {},
     "output_type": "display_data"
    },
    {
     "data": {
      "text/html": [
       " View run at <a href=\"https://wandb.ai/johnkhw/fyp-fer/runs/67a3wq40\" target=\"_blank\">https://wandb.ai/johnkhw/fyp-fer/runs/67a3wq40</a>"
      ],
      "text/plain": [
       "<IPython.core.display.HTML object>"
      ]
     },
     "metadata": {},
     "output_type": "display_data"
    },
    {
     "name": "stdout",
     "output_type": "stream",
     "text": [
      "PhysicalDevice(name='/physical_device:GPU:0', device_type='GPU')\n"
     ]
    },
    {
     "name": "stderr",
     "output_type": "stream",
     "text": [
      "c:\\Users\\wongk\\miniconda3\\envs\\fyp-env\\lib\\site-packages\\keras\\optimizers\\optimizer_v2\\gradient_descent.py:111: UserWarning: The `lr` argument is deprecated, use `learning_rate` instead.\n",
      "  super().__init__(name, **kwargs)\n"
     ]
    },
    {
     "name": "stdout",
     "output_type": "stream",
     "text": [
      "Found 28709 images belonging to 7 classes.\n",
      "Found 3589 images belonging to 7 classes.\n",
      "Found 3589 images belonging to 7 classes.\n",
      "{'0': 0, '1': 1, '2': 2, '3': 3, '4': 4, '5': 5, '6': 6}\n",
      "Epoch 1/100\n",
      "399/400 [============================>.] - ETA: 0s - loss: 1.6896 - accuracy: 0.3220"
     ]
    },
    {
     "name": "stderr",
     "output_type": "stream",
     "text": [
      "WARNING:absl:Found untraced functions such as _jit_compiled_convolution_op, _jit_compiled_convolution_op while saving (showing 2 of 2). These functions will not be directly callable after loading.\n"
     ]
    },
    {
     "name": "stdout",
     "output_type": "stream",
     "text": [
      "INFO:tensorflow:Assets written to: c:\\AI\\Facial-Expression-Reconition\\wandb\\run-20230205_214849-67a3wq40\\files\\model-best\\assets\n"
     ]
    },
    {
     "name": "stderr",
     "output_type": "stream",
     "text": [
      "INFO:tensorflow:Assets written to: c:\\AI\\Facial-Expression-Reconition\\wandb\\run-20230205_214849-67a3wq40\\files\\model-best\\assets\n",
      "\u001b[34m\u001b[1mwandb\u001b[0m: Adding directory to artifact (c:\\AI\\Facial-Expression-Reconition\\wandb\\run-20230205_214849-67a3wq40\\files\\model-best)... Done. 0.1s\n"
     ]
    },
    {
     "name": "stdout",
     "output_type": "stream",
     "text": [
      "400/400 [==============================] - 25s 62ms/step - loss: 1.6895 - accuracy: 0.3219 - val_loss: 1.5288 - val_accuracy: 0.4110\n",
      "Epoch 2/100\n",
      "399/400 [============================>.] - ETA: 0s - loss: 1.5080 - accuracy: 0.4193"
     ]
    },
    {
     "name": "stderr",
     "output_type": "stream",
     "text": [
      "WARNING:absl:Found untraced functions such as _jit_compiled_convolution_op, _jit_compiled_convolution_op while saving (showing 2 of 2). These functions will not be directly callable after loading.\n"
     ]
    },
    {
     "name": "stdout",
     "output_type": "stream",
     "text": [
      "INFO:tensorflow:Assets written to: c:\\AI\\Facial-Expression-Reconition\\wandb\\run-20230205_214849-67a3wq40\\files\\model-best\\assets\n"
     ]
    },
    {
     "name": "stderr",
     "output_type": "stream",
     "text": [
      "INFO:tensorflow:Assets written to: c:\\AI\\Facial-Expression-Reconition\\wandb\\run-20230205_214849-67a3wq40\\files\\model-best\\assets\n",
      "\u001b[34m\u001b[1mwandb\u001b[0m: Adding directory to artifact (c:\\AI\\Facial-Expression-Reconition\\wandb\\run-20230205_214849-67a3wq40\\files\\model-best)... Done. 0.1s\n"
     ]
    },
    {
     "name": "stdout",
     "output_type": "stream",
     "text": [
      "400/400 [==============================] - 17s 42ms/step - loss: 1.5080 - accuracy: 0.4192 - val_loss: 1.4155 - val_accuracy: 0.4661\n",
      "Epoch 3/100\n",
      "400/400 [==============================] - ETA: 0s - loss: 1.4329 - accuracy: 0.4519"
     ]
    },
    {
     "name": "stderr",
     "output_type": "stream",
     "text": [
      "WARNING:absl:Found untraced functions such as _jit_compiled_convolution_op, _jit_compiled_convolution_op while saving (showing 2 of 2). These functions will not be directly callable after loading.\n"
     ]
    },
    {
     "name": "stdout",
     "output_type": "stream",
     "text": [
      "INFO:tensorflow:Assets written to: c:\\AI\\Facial-Expression-Reconition\\wandb\\run-20230205_214849-67a3wq40\\files\\model-best\\assets\n"
     ]
    },
    {
     "name": "stderr",
     "output_type": "stream",
     "text": [
      "INFO:tensorflow:Assets written to: c:\\AI\\Facial-Expression-Reconition\\wandb\\run-20230205_214849-67a3wq40\\files\\model-best\\assets\n",
      "\u001b[34m\u001b[1mwandb\u001b[0m: Adding directory to artifact (c:\\AI\\Facial-Expression-Reconition\\wandb\\run-20230205_214849-67a3wq40\\files\\model-best)... Done. 0.0s\n"
     ]
    },
    {
     "name": "stdout",
     "output_type": "stream",
     "text": [
      "400/400 [==============================] - 14s 35ms/step - loss: 1.4329 - accuracy: 0.4519 - val_loss: 1.3702 - val_accuracy: 0.4759\n",
      "Epoch 4/100\n",
      "400/400 [==============================] - ETA: 0s - loss: 1.3774 - accuracy: 0.4721"
     ]
    },
    {
     "name": "stderr",
     "output_type": "stream",
     "text": [
      "WARNING:absl:Found untraced functions such as _jit_compiled_convolution_op, _jit_compiled_convolution_op while saving (showing 2 of 2). These functions will not be directly callable after loading.\n"
     ]
    },
    {
     "name": "stdout",
     "output_type": "stream",
     "text": [
      "INFO:tensorflow:Assets written to: c:\\AI\\Facial-Expression-Reconition\\wandb\\run-20230205_214849-67a3wq40\\files\\model-best\\assets\n"
     ]
    },
    {
     "name": "stderr",
     "output_type": "stream",
     "text": [
      "INFO:tensorflow:Assets written to: c:\\AI\\Facial-Expression-Reconition\\wandb\\run-20230205_214849-67a3wq40\\files\\model-best\\assets\n",
      "\u001b[34m\u001b[1mwandb\u001b[0m: Adding directory to artifact (c:\\AI\\Facial-Expression-Reconition\\wandb\\run-20230205_214849-67a3wq40\\files\\model-best)... Done. 0.1s\n"
     ]
    },
    {
     "name": "stdout",
     "output_type": "stream",
     "text": [
      "400/400 [==============================] - 15s 36ms/step - loss: 1.3774 - accuracy: 0.4721 - val_loss: 1.3208 - val_accuracy: 0.4921\n",
      "Epoch 5/100\n",
      "400/400 [==============================] - ETA: 0s - loss: 1.3354 - accuracy: 0.4854"
     ]
    },
    {
     "name": "stderr",
     "output_type": "stream",
     "text": [
      "WARNING:absl:Found untraced functions such as _jit_compiled_convolution_op, _jit_compiled_convolution_op while saving (showing 2 of 2). These functions will not be directly callable after loading.\n"
     ]
    },
    {
     "name": "stdout",
     "output_type": "stream",
     "text": [
      "INFO:tensorflow:Assets written to: c:\\AI\\Facial-Expression-Reconition\\wandb\\run-20230205_214849-67a3wq40\\files\\model-best\\assets\n"
     ]
    },
    {
     "name": "stderr",
     "output_type": "stream",
     "text": [
      "INFO:tensorflow:Assets written to: c:\\AI\\Facial-Expression-Reconition\\wandb\\run-20230205_214849-67a3wq40\\files\\model-best\\assets\n",
      "\u001b[34m\u001b[1mwandb\u001b[0m: Adding directory to artifact (c:\\AI\\Facial-Expression-Reconition\\wandb\\run-20230205_214849-67a3wq40\\files\\model-best)... Done. 0.0s\n"
     ]
    },
    {
     "name": "stdout",
     "output_type": "stream",
     "text": [
      "400/400 [==============================] - 14s 35ms/step - loss: 1.3354 - accuracy: 0.4854 - val_loss: 1.2951 - val_accuracy: 0.4982\n",
      "Epoch 6/100\n",
      "399/400 [============================>.] - ETA: 0s - loss: 1.3061 - accuracy: 0.5002"
     ]
    },
    {
     "name": "stderr",
     "output_type": "stream",
     "text": [
      "WARNING:absl:Found untraced functions such as _jit_compiled_convolution_op, _jit_compiled_convolution_op while saving (showing 2 of 2). These functions will not be directly callable after loading.\n"
     ]
    },
    {
     "name": "stdout",
     "output_type": "stream",
     "text": [
      "INFO:tensorflow:Assets written to: c:\\AI\\Facial-Expression-Reconition\\wandb\\run-20230205_214849-67a3wq40\\files\\model-best\\assets\n"
     ]
    },
    {
     "name": "stderr",
     "output_type": "stream",
     "text": [
      "INFO:tensorflow:Assets written to: c:\\AI\\Facial-Expression-Reconition\\wandb\\run-20230205_214849-67a3wq40\\files\\model-best\\assets\n",
      "\u001b[34m\u001b[1mwandb\u001b[0m: Adding directory to artifact (c:\\AI\\Facial-Expression-Reconition\\wandb\\run-20230205_214849-67a3wq40\\files\\model-best)... Done. 0.0s\n"
     ]
    },
    {
     "name": "stdout",
     "output_type": "stream",
     "text": [
      "400/400 [==============================] - 14s 36ms/step - loss: 1.3060 - accuracy: 0.5002 - val_loss: 1.2749 - val_accuracy: 0.5082\n",
      "Epoch 7/100\n",
      "399/400 [============================>.] - ETA: 0s - loss: 1.2825 - accuracy: 0.5088"
     ]
    },
    {
     "name": "stderr",
     "output_type": "stream",
     "text": [
      "WARNING:absl:Found untraced functions such as _jit_compiled_convolution_op, _jit_compiled_convolution_op while saving (showing 2 of 2). These functions will not be directly callable after loading.\n"
     ]
    },
    {
     "name": "stdout",
     "output_type": "stream",
     "text": [
      "INFO:tensorflow:Assets written to: c:\\AI\\Facial-Expression-Reconition\\wandb\\run-20230205_214849-67a3wq40\\files\\model-best\\assets\n"
     ]
    },
    {
     "name": "stderr",
     "output_type": "stream",
     "text": [
      "INFO:tensorflow:Assets written to: c:\\AI\\Facial-Expression-Reconition\\wandb\\run-20230205_214849-67a3wq40\\files\\model-best\\assets\n",
      "\u001b[34m\u001b[1mwandb\u001b[0m: Adding directory to artifact (c:\\AI\\Facial-Expression-Reconition\\wandb\\run-20230205_214849-67a3wq40\\files\\model-best)... Done. 0.1s\n"
     ]
    },
    {
     "name": "stdout",
     "output_type": "stream",
     "text": [
      "400/400 [==============================] - 15s 37ms/step - loss: 1.2828 - accuracy: 0.5086 - val_loss: 1.2661 - val_accuracy: 0.5085\n",
      "Epoch 8/100\n",
      "399/400 [============================>.] - ETA: 0s - loss: 1.2508 - accuracy: 0.5219"
     ]
    },
    {
     "name": "stderr",
     "output_type": "stream",
     "text": [
      "WARNING:absl:Found untraced functions such as _jit_compiled_convolution_op, _jit_compiled_convolution_op while saving (showing 2 of 2). These functions will not be directly callable after loading.\n"
     ]
    },
    {
     "name": "stdout",
     "output_type": "stream",
     "text": [
      "INFO:tensorflow:Assets written to: c:\\AI\\Facial-Expression-Reconition\\wandb\\run-20230205_214849-67a3wq40\\files\\model-best\\assets\n"
     ]
    },
    {
     "name": "stderr",
     "output_type": "stream",
     "text": [
      "INFO:tensorflow:Assets written to: c:\\AI\\Facial-Expression-Reconition\\wandb\\run-20230205_214849-67a3wq40\\files\\model-best\\assets\n",
      "\u001b[34m\u001b[1mwandb\u001b[0m: Adding directory to artifact (c:\\AI\\Facial-Expression-Reconition\\wandb\\run-20230205_214849-67a3wq40\\files\\model-best)... Done. 0.0s\n"
     ]
    },
    {
     "name": "stdout",
     "output_type": "stream",
     "text": [
      "400/400 [==============================] - 14s 36ms/step - loss: 1.2506 - accuracy: 0.5218 - val_loss: 1.2466 - val_accuracy: 0.5261\n",
      "Epoch 9/100\n",
      "399/400 [============================>.] - ETA: 0s - loss: 1.2288 - accuracy: 0.5296"
     ]
    },
    {
     "name": "stderr",
     "output_type": "stream",
     "text": [
      "WARNING:absl:Found untraced functions such as _jit_compiled_convolution_op, _jit_compiled_convolution_op while saving (showing 2 of 2). These functions will not be directly callable after loading.\n"
     ]
    },
    {
     "name": "stdout",
     "output_type": "stream",
     "text": [
      "INFO:tensorflow:Assets written to: c:\\AI\\Facial-Expression-Reconition\\wandb\\run-20230205_214849-67a3wq40\\files\\model-best\\assets\n"
     ]
    },
    {
     "name": "stderr",
     "output_type": "stream",
     "text": [
      "INFO:tensorflow:Assets written to: c:\\AI\\Facial-Expression-Reconition\\wandb\\run-20230205_214849-67a3wq40\\files\\model-best\\assets\n",
      "\u001b[34m\u001b[1mwandb\u001b[0m: Adding directory to artifact (c:\\AI\\Facial-Expression-Reconition\\wandb\\run-20230205_214849-67a3wq40\\files\\model-best)... Done. 0.1s\n"
     ]
    },
    {
     "name": "stdout",
     "output_type": "stream",
     "text": [
      "400/400 [==============================] - 14s 35ms/step - loss: 1.2288 - accuracy: 0.5297 - val_loss: 1.2260 - val_accuracy: 0.5364\n",
      "Epoch 10/100\n",
      "400/400 [==============================] - 13s 33ms/step - loss: 1.2121 - accuracy: 0.5386 - val_loss: 1.2376 - val_accuracy: 0.5280\n",
      "Epoch 11/100\n",
      "400/400 [==============================] - ETA: 0s - loss: 1.1834 - accuracy: 0.5507"
     ]
    },
    {
     "name": "stderr",
     "output_type": "stream",
     "text": [
      "WARNING:absl:Found untraced functions such as _jit_compiled_convolution_op, _jit_compiled_convolution_op while saving (showing 2 of 2). These functions will not be directly callable after loading.\n"
     ]
    },
    {
     "name": "stdout",
     "output_type": "stream",
     "text": [
      "INFO:tensorflow:Assets written to: c:\\AI\\Facial-Expression-Reconition\\wandb\\run-20230205_214849-67a3wq40\\files\\model-best\\assets\n"
     ]
    },
    {
     "name": "stderr",
     "output_type": "stream",
     "text": [
      "INFO:tensorflow:Assets written to: c:\\AI\\Facial-Expression-Reconition\\wandb\\run-20230205_214849-67a3wq40\\files\\model-best\\assets\n",
      "\u001b[34m\u001b[1mwandb\u001b[0m: Adding directory to artifact (c:\\AI\\Facial-Expression-Reconition\\wandb\\run-20230205_214849-67a3wq40\\files\\model-best)... Done. 0.0s\n"
     ]
    },
    {
     "name": "stdout",
     "output_type": "stream",
     "text": [
      "400/400 [==============================] - 14s 36ms/step - loss: 1.1834 - accuracy: 0.5507 - val_loss: 1.2122 - val_accuracy: 0.5380\n",
      "Epoch 12/100\n",
      "399/400 [============================>.] - ETA: 0s - loss: 1.1739 - accuracy: 0.5533"
     ]
    },
    {
     "name": "stderr",
     "output_type": "stream",
     "text": [
      "WARNING:absl:Found untraced functions such as _jit_compiled_convolution_op, _jit_compiled_convolution_op while saving (showing 2 of 2). These functions will not be directly callable after loading.\n"
     ]
    },
    {
     "name": "stdout",
     "output_type": "stream",
     "text": [
      "INFO:tensorflow:Assets written to: c:\\AI\\Facial-Expression-Reconition\\wandb\\run-20230205_214849-67a3wq40\\files\\model-best\\assets\n"
     ]
    },
    {
     "name": "stderr",
     "output_type": "stream",
     "text": [
      "INFO:tensorflow:Assets written to: c:\\AI\\Facial-Expression-Reconition\\wandb\\run-20230205_214849-67a3wq40\\files\\model-best\\assets\n",
      "\u001b[34m\u001b[1mwandb\u001b[0m: Adding directory to artifact (c:\\AI\\Facial-Expression-Reconition\\wandb\\run-20230205_214849-67a3wq40\\files\\model-best)... Done. 0.1s\n"
     ]
    },
    {
     "name": "stdout",
     "output_type": "stream",
     "text": [
      "400/400 [==============================] - 15s 36ms/step - loss: 1.1738 - accuracy: 0.5532 - val_loss: 1.2088 - val_accuracy: 0.5489\n",
      "Epoch 13/100\n",
      "400/400 [==============================] - 13s 33ms/step - loss: 1.1522 - accuracy: 0.5615 - val_loss: 1.2224 - val_accuracy: 0.5492\n",
      "Epoch 14/100\n",
      "400/400 [==============================] - ETA: 0s - loss: 1.1399 - accuracy: 0.5700"
     ]
    },
    {
     "name": "stderr",
     "output_type": "stream",
     "text": [
      "WARNING:absl:Found untraced functions such as _jit_compiled_convolution_op, _jit_compiled_convolution_op while saving (showing 2 of 2). These functions will not be directly callable after loading.\n"
     ]
    },
    {
     "name": "stdout",
     "output_type": "stream",
     "text": [
      "INFO:tensorflow:Assets written to: c:\\AI\\Facial-Expression-Reconition\\wandb\\run-20230205_214849-67a3wq40\\files\\model-best\\assets\n"
     ]
    },
    {
     "name": "stderr",
     "output_type": "stream",
     "text": [
      "INFO:tensorflow:Assets written to: c:\\AI\\Facial-Expression-Reconition\\wandb\\run-20230205_214849-67a3wq40\\files\\model-best\\assets\n",
      "\u001b[34m\u001b[1mwandb\u001b[0m: Adding directory to artifact (c:\\AI\\Facial-Expression-Reconition\\wandb\\run-20230205_214849-67a3wq40\\files\\model-best)... Done. 0.0s\n"
     ]
    },
    {
     "name": "stdout",
     "output_type": "stream",
     "text": [
      "400/400 [==============================] - 14s 36ms/step - loss: 1.1399 - accuracy: 0.5700 - val_loss: 1.2051 - val_accuracy: 0.5475\n",
      "Epoch 15/100\n",
      "400/400 [==============================] - ETA: 0s - loss: 1.1277 - accuracy: 0.5714"
     ]
    },
    {
     "name": "stderr",
     "output_type": "stream",
     "text": [
      "WARNING:absl:Found untraced functions such as _jit_compiled_convolution_op, _jit_compiled_convolution_op while saving (showing 2 of 2). These functions will not be directly callable after loading.\n"
     ]
    },
    {
     "name": "stdout",
     "output_type": "stream",
     "text": [
      "INFO:tensorflow:Assets written to: c:\\AI\\Facial-Expression-Reconition\\wandb\\run-20230205_214849-67a3wq40\\files\\model-best\\assets\n"
     ]
    },
    {
     "name": "stderr",
     "output_type": "stream",
     "text": [
      "INFO:tensorflow:Assets written to: c:\\AI\\Facial-Expression-Reconition\\wandb\\run-20230205_214849-67a3wq40\\files\\model-best\\assets\n",
      "\u001b[34m\u001b[1mwandb\u001b[0m: Adding directory to artifact (c:\\AI\\Facial-Expression-Reconition\\wandb\\run-20230205_214849-67a3wq40\\files\\model-best)... Done. 0.1s\n"
     ]
    },
    {
     "name": "stdout",
     "output_type": "stream",
     "text": [
      "400/400 [==============================] - 14s 36ms/step - loss: 1.1277 - accuracy: 0.5714 - val_loss: 1.2014 - val_accuracy: 0.5573\n",
      "Epoch 16/100\n",
      "400/400 [==============================] - 14s 34ms/step - loss: 1.1118 - accuracy: 0.5790 - val_loss: 1.2060 - val_accuracy: 0.5508\n",
      "Epoch 17/100\n",
      "400/400 [==============================] - 14s 35ms/step - loss: 1.0893 - accuracy: 0.5844 - val_loss: 1.2172 - val_accuracy: 0.5587\n",
      "Epoch 18/100\n",
      "400/400 [==============================] - 13s 33ms/step - loss: 1.0879 - accuracy: 0.5896 - val_loss: 1.2334 - val_accuracy: 0.5428\n",
      "Epoch 19/100\n",
      "400/400 [==============================] - 13s 33ms/step - loss: 1.0761 - accuracy: 0.5936 - val_loss: 1.2082 - val_accuracy: 0.5573\n",
      "Epoch 20/100\n",
      "400/400 [==============================] - ETA: 0s - loss: 1.0628 - accuracy: 0.5983"
     ]
    },
    {
     "name": "stderr",
     "output_type": "stream",
     "text": [
      "WARNING:absl:Found untraced functions such as _jit_compiled_convolution_op, _jit_compiled_convolution_op while saving (showing 2 of 2). These functions will not be directly callable after loading.\n"
     ]
    },
    {
     "name": "stdout",
     "output_type": "stream",
     "text": [
      "INFO:tensorflow:Assets written to: c:\\AI\\Facial-Expression-Reconition\\wandb\\run-20230205_214849-67a3wq40\\files\\model-best\\assets\n"
     ]
    },
    {
     "name": "stderr",
     "output_type": "stream",
     "text": [
      "INFO:tensorflow:Assets written to: c:\\AI\\Facial-Expression-Reconition\\wandb\\run-20230205_214849-67a3wq40\\files\\model-best\\assets\n",
      "\u001b[34m\u001b[1mwandb\u001b[0m: Adding directory to artifact (c:\\AI\\Facial-Expression-Reconition\\wandb\\run-20230205_214849-67a3wq40\\files\\model-best)... Done. 0.1s\n"
     ]
    },
    {
     "name": "stdout",
     "output_type": "stream",
     "text": [
      "400/400 [==============================] - 15s 38ms/step - loss: 1.0628 - accuracy: 0.5983 - val_loss: 1.1939 - val_accuracy: 0.5628\n",
      "Epoch 21/100\n",
      "400/400 [==============================] - 15s 36ms/step - loss: 1.0543 - accuracy: 0.5999 - val_loss: 1.2253 - val_accuracy: 0.5545\n",
      "Epoch 22/100\n",
      "400/400 [==============================] - 14s 35ms/step - loss: 1.0415 - accuracy: 0.6088 - val_loss: 1.2490 - val_accuracy: 0.5453\n",
      "Epoch 23/100\n",
      "400/400 [==============================] - 14s 36ms/step - loss: 1.0274 - accuracy: 0.6138 - val_loss: 1.2195 - val_accuracy: 0.5620\n",
      "Epoch 24/100\n",
      "400/400 [==============================] - 14s 35ms/step - loss: 1.0305 - accuracy: 0.6119 - val_loss: 1.2578 - val_accuracy: 0.5464\n",
      "Epoch 25/100\n",
      "400/400 [==============================] - 15s 37ms/step - loss: 1.0114 - accuracy: 0.6215 - val_loss: 1.2356 - val_accuracy: 0.5534\n",
      "Epoch 26/100\n",
      "400/400 [==============================] - 14s 36ms/step - loss: 1.0030 - accuracy: 0.6239 - val_loss: 1.2365 - val_accuracy: 0.5609\n",
      "Epoch 27/100\n",
      "400/400 [==============================] - 15s 38ms/step - loss: 0.9972 - accuracy: 0.6238 - val_loss: 1.2420 - val_accuracy: 0.5584\n",
      "Epoch 28/100\n",
      "400/400 [==============================] - 14s 35ms/step - loss: 0.9890 - accuracy: 0.6286 - val_loss: 1.2279 - val_accuracy: 0.5642\n",
      "Epoch 29/100\n",
      "400/400 [==============================] - 14s 35ms/step - loss: 0.9848 - accuracy: 0.6321 - val_loss: 1.2321 - val_accuracy: 0.5651\n",
      "Epoch 30/100\n",
      "400/400 [==============================] - 12s 30ms/step - loss: 0.9715 - accuracy: 0.6372 - val_loss: 1.2431 - val_accuracy: 0.5539\n",
      "Epoch 31/100\n",
      "400/400 [==============================] - 12s 30ms/step - loss: 0.9664 - accuracy: 0.6373 - val_loss: 1.2408 - val_accuracy: 0.5587\n",
      "Epoch 32/100\n",
      "400/400 [==============================] - 12s 29ms/step - loss: 0.9525 - accuracy: 0.6464 - val_loss: 1.2393 - val_accuracy: 0.5534\n",
      "Epoch 33/100\n",
      "400/400 [==============================] - 12s 30ms/step - loss: 0.9487 - accuracy: 0.6475 - val_loss: 1.2469 - val_accuracy: 0.5598\n",
      "Epoch 34/100\n",
      "400/400 [==============================] - 14s 35ms/step - loss: 0.9429 - accuracy: 0.6477 - val_loss: 1.2514 - val_accuracy: 0.5678\n",
      "Epoch 35/100\n",
      "400/400 [==============================] - 14s 34ms/step - loss: 0.9273 - accuracy: 0.6574 - val_loss: 1.2638 - val_accuracy: 0.5631\n",
      "Epoch 36/100\n",
      "400/400 [==============================] - 13s 33ms/step - loss: 0.9274 - accuracy: 0.6533 - val_loss: 1.2601 - val_accuracy: 0.5626\n",
      "Epoch 37/100\n",
      "400/400 [==============================] - 14s 34ms/step - loss: 0.9213 - accuracy: 0.6561 - val_loss: 1.2267 - val_accuracy: 0.5670\n",
      "Epoch 38/100\n",
      "400/400 [==============================] - 13s 33ms/step - loss: 0.9124 - accuracy: 0.6644 - val_loss: 1.2619 - val_accuracy: 0.5609\n",
      "Epoch 39/100\n",
      "400/400 [==============================] - 14s 34ms/step - loss: 0.9011 - accuracy: 0.6668 - val_loss: 1.2722 - val_accuracy: 0.5578\n",
      "Epoch 40/100\n",
      "400/400 [==============================] - 14s 34ms/step - loss: 0.8935 - accuracy: 0.6665 - val_loss: 1.2529 - val_accuracy: 0.5642\n",
      "Epoch 41/100\n",
      "400/400 [==============================] - 14s 35ms/step - loss: 0.8863 - accuracy: 0.6703 - val_loss: 1.2767 - val_accuracy: 0.5639\n",
      "Epoch 42/100\n",
      "400/400 [==============================] - 14s 36ms/step - loss: 0.8852 - accuracy: 0.6702 - val_loss: 1.2827 - val_accuracy: 0.5631\n",
      "Epoch 43/100\n",
      "400/400 [==============================] - 14s 36ms/step - loss: 0.8719 - accuracy: 0.6778 - val_loss: 1.2765 - val_accuracy: 0.5623\n",
      "Epoch 44/100\n",
      "400/400 [==============================] - 14s 34ms/step - loss: 0.8719 - accuracy: 0.6738 - val_loss: 1.2932 - val_accuracy: 0.5578\n",
      "Epoch 45/100\n",
      "400/400 [==============================] - ETA: 0s - loss: 0.8558 - accuracy: 0.6833Restoring model weights from the end of the best epoch: 34.\n",
      "400/400 [==============================] - 14s 34ms/step - loss: 0.8558 - accuracy: 0.6833 - val_loss: 1.2750 - val_accuracy: 0.5659\n",
      "Epoch 45: early stopping\n",
      "  55/2000 [..............................] - ETA: 1:13 - loss: 1.1982 - accuracy: 0.5651WARNING:tensorflow:Your input ran out of data; interrupting training. Make sure that your dataset or generator can generate at least `steps_per_epoch * epochs` batches (in this case, 2000 batches). You may need to use the repeat() function when building your dataset.\n"
     ]
    },
    {
     "name": "stderr",
     "output_type": "stream",
     "text": [
      "WARNING:tensorflow:Your input ran out of data; interrupting training. Make sure that your dataset or generator can generate at least `steps_per_epoch * epochs` batches (in this case, 2000 batches). You may need to use the repeat() function when building your dataset.\n"
     ]
    },
    {
     "name": "stdout",
     "output_type": "stream",
     "text": [
      "2000/2000 [==============================] - 2s 1ms/step - loss: 1.1978 - accuracy: 0.5645\n"
     ]
    },
    {
     "name": "stderr",
     "output_type": "stream",
     "text": [
      "  0%|          | 0/2 [00:00<?, ?it/s]"
     ]
    },
    {
     "data": {
      "image/png": "[encoded data removed]",
      "text/plain": [
       "<Figure size 640x480 with 1 Axes>"
      ]
     },
     "metadata": {},
     "output_type": "display_data"
    },
    {
     "data": {
      "image/png": "[encoded data removed]",
      "text/plain": [
       "<Figure size 640x480 with 1 Axes>"
      ]
     },
     "metadata": {},
     "output_type": "display_data"
    },
    {
     "name": "stderr",
     "output_type": "stream",
     "text": [
      "  0%|          | 0/2 [00:00<?, ?it/s]\n"
     ]
    },
    {
     "data": {
      "text/html": [
       "Waiting for W&B process to finish... <strong style=\"color:green\">(success).</strong>"
      ],
      "text/plain": [
       "<IPython.core.display.HTML object>"
      ]
     },
     "metadata": {},
     "output_type": "display_data"
    },
    {
     "data": {
      "text/html": [
       "<style>\n",
       "    table.wandb td:nth-child(1) { padding: 0 10px; text-align: left ; width: auto;} td:nth-child(2) {text-align: left ; width: 100%}\n",
       "    .wandb-row { display: flex; flex-direction: row; flex-wrap: wrap; justify-content: flex-start; width: 100% }\n",
       "    .wandb-col { display: flex; flex-direction: column; flex-basis: 100%; flex: 1; padding: 10px; }\n",
       "    </style>\n",
       "<div class=\"wandb-row\"><div class=\"wandb-col\"><h3>Run history:</h3><br/><table class=\"wandb\"><tr><td>accuracy</td><td>▁▃▄▄▄▄▅▅▅▅▅▆▆▆▆▆▆▆▆▇▇▇▇▇▇▇▇▇▇▇▇▇▇███████</td></tr><tr><td>epoch</td><td>▁▁▁▁▂▂▂▂▂▃▃▃▃▃▃▄▄▄▄▄▅▅▅▅▅▅▆▆▆▆▆▆▇▇▇▇▇███</td></tr><tr><td>loss</td><td>█▆▆▅▅▅▅▄▄▄▄▃▃▃▃▃▃▃▃▃▂▂▂▂▂▂▂▂▂▂▂▂▂▁▁▁▁▁▁▁</td></tr><tr><td>val_accuracy</td><td>▁▃▄▅▅▅▅▆▆▇▇▇▇█▇███▇▇█▇▇███▇█▇███████████</td></tr><tr><td>val_loss</td><td>█▆▅▄▃▃▃▂▂▁▁▂▁▁▁▁▁▁▂▂▂▂▂▂▂▂▂▂▂▂▂▂▂▂▃▂▃▃▃▃</td></tr></table><br/></div><div class=\"wandb-col\"><h3>Run summary:</h3><br/><table class=\"wandb\"><tr><td>accuracy</td><td>0.68334</td></tr><tr><td>best_epoch</td><td>19</td></tr><tr><td>best_val_loss</td><td>1.19386</td></tr><tr><td>epoch</td><td>44</td></tr><tr><td>loss</td><td>0.85579</td></tr><tr><td>val_accuracy</td><td>0.5659</td></tr><tr><td>val_loss</td><td>1.27501</td></tr></table><br/></div></div>"
      ],
      "text/plain": [
       "<IPython.core.display.HTML object>"
      ]
     },
     "metadata": {},
     "output_type": "display_data"
    },
    {
     "data": {
      "text/html": [
       " View run <strong style=\"color:#cdcd00\">auspicious-festival-40</strong> at: <a href=\"https://wandb.ai/johnkhw/fyp-fer/runs/67a3wq40\" target=\"_blank\">https://wandb.ai/johnkhw/fyp-fer/runs/67a3wq40</a><br/>Synced 6 W&B file(s), 1 media file(s), 56 artifact file(s) and 1 other file(s)"
      ],
      "text/plain": [
       "<IPython.core.display.HTML object>"
      ]
     },
     "metadata": {},
     "output_type": "display_data"
    },
    {
     "data": {
      "text/html": [
       "Find logs at: <code>.\\wandb\\run-20230205_214849-67a3wq40\\logs</code>"
      ],
      "text/plain": [
       "<IPython.core.display.HTML object>"
      ]
     },
     "metadata": {},
     "output_type": "display_data"
    }
   ],
   "source": [
    "import scipy\n",
    "import tensorflow as tf\n",
    "from wandb.keras  import WandbCallback\n",
    "\n",
    "class Model:\n",
    "    img_size = 48\n",
    "    num_classes = 7\n",
    "    root_path = \"./data/fer\"\n",
    "    batch_size = 64\n",
    "    epochs = 100\n",
    "    learning_rate=0.001\n",
    "    postfix = \"\"\n",
    "\n",
    "    def __init__(self):\n",
    "        self.model = None\n",
    "\n",
    "    def build_model(self):\n",
    "        build_model(self)\n",
    "\n",
    "    def train_model(self, another_callback=[]):\n",
    "        train_model(self, another_callback)\n",
    "\n",
    "    def save_model(self):\n",
    "        save_model(self)\n",
    "\n",
    "if __name__ == \"__main__\":\n",
    "    img_size = 48\n",
    "    num_classes = 7\n",
    "    root_path = \"./data/fer\"\n",
    "    batch_size = 64\n",
    "    epochs = 100\n",
    "    learning_rate=0.001\n",
    "    postfix = \"\"\n",
    "    wandb.init(project=\"fyp-fer\", entity=\"johnkhw\")\n",
    "    wandb.config = {\n",
    "        learning_rate,\n",
    "        epochs,\n",
    "        batch_size\n",
    "    }\n",
    "    wandb_callback = [\n",
    "        WandbCallback(),\n",
    "    ]\n",
    "    model = Model()\n",
    "    model.build_model()\n",
    "    model.train_model(wandb_callback)\n",
    "    model.save_model()\n",
    "    wandb.finish()"
   ]
  },
  {
   "cell_type": "code",
   "execution_count": 33,
   "metadata": {},
   "outputs": [
    {
     "name": "stderr",
     "output_type": "stream",
     "text": [
      "Some layers from the model checkpoint at jonaskoenig/topic_classification_04 were not used when initializing TFBertForSequenceClassification: ['dropout_19']\n",
      "- This IS expected if you are initializing TFBertForSequenceClassification from the checkpoint of a model trained on another task or with another architecture (e.g. initializing a BertForSequenceClassification model from a BertForPreTraining model).\n",
      "- This IS NOT expected if you are initializing TFBertForSequenceClassification from the checkpoint of a model that you expect to be exactly identical (initializing a BertForSequenceClassification model from a BertForSequenceClassification model).\n",
      "All the layers of TFBertForSequenceClassification were initialized from the model checkpoint at jonaskoenig/topic_classification_04.\n",
      "If your task is similar to the task the model of the checkpoint was trained on, you can already use TFBertForSequenceClassification for predictions without further training.\n"
     ]
    },
    {
     "data": {
      "text/plain": [
       "[{'label': 'Business & Finance', 'score': 0.9852411150932312}]"
      ]
     },
     "execution_count": 33,
     "metadata": {},
     "output_type": "execute_result"
    }
   ],
   "source": [
    "\n",
    "from transformers import pipeline\n",
    "from transformers import WhisperFeatureExtractor\n",
    "\n",
    "\n",
    "text = \"Buy this Chinese tech giant to play a $284 billion video gaming opportunity: Goldman Sachs\"\n",
    "generator = pipeline(model=\"jonaskoenig/topic_classification_04\")\n",
    "generator(text)"
   ]
  }
 ],
 "metadata": {
  "kernelspec": {
   "display_name": "fyp-env",
   "language": "python",
   "name": "python3"
  },
  "language_info": {
   "codemirror_mode": {
    "name": "ipython",
    "version": 3
   },
   "file_extension": ".py",
   "mimetype": "text/x-python",
   "name": "python",
   "nbconvert_exporter": "python",
   "pygments_lexer": "ipython3",
   "version": "3.10.8"
  },
  "orig_nbformat": 4,
  "vscode": {
   "interpreter": {
    "hash": "515e3c4bb69b8fc5538ce8ee571d8d8518d28f831e5e7106b080a418fa73b22c"
   }
  }
 },
 "nbformat": 4,
 "nbformat_minor": 2
}
